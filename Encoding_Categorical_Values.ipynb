{
  "nbformat": 4,
  "nbformat_minor": 0,
  "metadata": {
    "colab": {
      "provenance": []
    },
    "kernelspec": {
      "name": "python3",
      "display_name": "Python 3"
    },
    "language_info": {
      "name": "python"
    }
  },
  "cells": [
    {
      "cell_type": "markdown",
      "source": [
        "# Feature Engineering : Encoding Categorical Values\n",
        "\n",
        "## Description\n",
        "The goal of this task is to process and enhance the dataset by handling categorical variables and engineering new features.\n",
        "### Steps to be Performed\n",
        "1️. **Identify categorical variables** that need encoding.  \n",
        "2️. **Choose appropriate encoding techniques** (OneHot Encoding, Label Encoding).  \n",
        "3️. **Create new features**.  \n",
        "4️. **Analyze feature importance** before proceeding to modeling."
      ],
      "metadata": {
        "id": "r_uDJGTNpgK6"
      }
    },
    {
      "cell_type": "markdown",
      "source": [
        "# Importing Libraries"
      ],
      "metadata": {
        "id": "3iFv4to5ranH"
      }
    },
    {
      "cell_type": "code",
      "source": [
        "import numpy as np\n",
        "import pandas as pd\n",
        "from sklearn.preprocessing import LabelEncoder\n",
        "from sklearn.model_selection import train_test_split\n",
        "import xgboost as xgb\n",
        "from xgboost import XGBClassifier\n",
        "from sklearn.ensemble import RandomForestClassifier\n",
        "from sklearn.metrics import accuracy_score"
      ],
      "metadata": {
        "id": "lUB7S4EHrUIL"
      },
      "execution_count": 59,
      "outputs": []
    },
    {
      "cell_type": "code",
      "source": [
        "data = pd.read_csv('cleaned-in-vehicle-coupon-recommendation.csv')"
      ],
      "metadata": {
        "id": "P-YpJW3Rris9"
      },
      "execution_count": 60,
      "outputs": []
    },
    {
      "cell_type": "code",
      "execution_count": 61,
      "metadata": {
        "colab": {
          "base_uri": "https://localhost:8080/"
        },
        "id": "h0h_3BpnpeNu",
        "outputId": "e819dba1-026b-4cd0-f8b2-7b14f5ec6c19"
      },
      "outputs": [
        {
          "output_type": "stream",
          "name": "stdout",
          "text": [
            "Unique values in column 'destination':\n",
            "['no urgent place' 'home' 'work']\n",
            "--------------------------------------------------\n",
            "Unique values in column 'passanger':\n",
            "['alone' 'friend(s)' 'kid(s)' 'partner']\n",
            "--------------------------------------------------\n",
            "Unique values in column 'weather':\n",
            "['sunny' 'rainy' 'snowy']\n",
            "--------------------------------------------------\n",
            "Unique values in column 'temperature':\n",
            "[55 80 30]\n",
            "--------------------------------------------------\n",
            "Unique values in column 'time':\n",
            "['2pm' '10am' '6pm' '7am' '10pm']\n",
            "--------------------------------------------------\n",
            "Unique values in column 'coupon':\n",
            "['restaurant(<20)' 'coffee house' 'carry out & take away' 'bar'\n",
            " 'restaurant(20-50)']\n",
            "--------------------------------------------------\n",
            "Unique values in column 'expiration':\n",
            "['1d' '2h']\n",
            "--------------------------------------------------\n",
            "Unique values in column 'gender':\n",
            "['female' 'male']\n",
            "--------------------------------------------------\n",
            "Unique values in column 'age':\n",
            "['21' '46' '26' '31' '41' '50plus' '36' 'below21']\n",
            "--------------------------------------------------\n",
            "Unique values in column 'maritalStatus':\n",
            "['unmarried partner' 'single' 'married partner' 'divorced' 'widowed']\n",
            "--------------------------------------------------\n",
            "Unique values in column 'has_children':\n",
            "[1 0]\n",
            "--------------------------------------------------\n",
            "Unique values in column 'education':\n",
            "['some college - no degree' 'bachelors degree' 'associates degree'\n",
            " 'high school graduate' 'graduate degree (masters or doctorate)'\n",
            " 'some high school']\n",
            "--------------------------------------------------\n",
            "Unique values in column 'occupation':\n",
            "['unemployed' 'architecture & engineering' 'student'\n",
            " 'education&training&library' 'healthcare support'\n",
            " 'healthcare practitioners & technical' 'sales & related' 'management'\n",
            " 'arts design entertainment sports & media' 'computer & mathematical'\n",
            " 'life physical social science' 'personal care & service'\n",
            " 'community & social services' 'office & administrative support'\n",
            " 'construction & extraction' 'legal' 'retired'\n",
            " 'installation maintenance & repair' 'transportation & material moving'\n",
            " 'business & financial' 'protective service'\n",
            " 'food preparation & serving related' 'production occupations'\n",
            " 'building & grounds cleaning & maintenance' 'farming fishing & forestry']\n",
            "--------------------------------------------------\n",
            "Unique values in column 'income':\n",
            "['$37500 - $49999' '$62500 - $74999' '$12500 - $24999' '$75000 - $87499'\n",
            " '$50000 - $62499' '$25000 - $37499' '$100000 or more' '$87500 - $99999'\n",
            " 'less than $12500']\n",
            "--------------------------------------------------\n",
            "Unique values in column 'Bar':\n",
            "['never' 'less1' '1~3' 'gt8' '4~8']\n",
            "--------------------------------------------------\n",
            "Unique values in column 'CoffeeHouse':\n",
            "['never' 'less1' '4~8' '1~3' 'gt8']\n",
            "--------------------------------------------------\n",
            "Unique values in column 'CarryAway':\n",
            "['1~3' '4~8' 'gt8' 'less1' 'never']\n",
            "--------------------------------------------------\n",
            "Unique values in column 'RestaurantLessThan20':\n",
            "['4~8' '1~3' 'less1' 'gt8' 'never']\n",
            "--------------------------------------------------\n",
            "Unique values in column 'Restaurant20To50':\n",
            "['1~3' 'less1' 'never' 'gt8' '4~8']\n",
            "--------------------------------------------------\n",
            "Unique values in column 'toCoupon_GEQ15min':\n",
            "[0 1]\n",
            "--------------------------------------------------\n",
            "Unique values in column 'toCoupon_GEQ25min':\n",
            "[0 1]\n",
            "--------------------------------------------------\n",
            "Unique values in column 'direction_same':\n",
            "[0 1]\n",
            "--------------------------------------------------\n",
            "Unique values in column 'Y':\n",
            "[1 0]\n",
            "--------------------------------------------------\n"
          ]
        }
      ],
      "source": [
        "def unique_values(df):\n",
        "\n",
        "  for col in df.columns:\n",
        "    unique_values = df[col].unique()\n",
        "    print(f\"Unique values in column '{col}':\")\n",
        "    print(unique_values)\n",
        "    print(\"-\" * 50)\n",
        "\n",
        "unique_values(data)"
      ]
    },
    {
      "cell_type": "markdown",
      "source": [
        "# Manual Encoding"
      ],
      "metadata": {
        "id": "-nYAGEuO0o_A"
      }
    },
    {
      "cell_type": "code",
      "source": [
        "# We are manually encoding the following columns as these columns have same classes and gives us more control over data\n",
        "def manual_encode(df):\n",
        "\n",
        "  column = ['Restaurant20To50','RestaurantLessThan20','CarryAway','CoffeeHouse','Bar']\n",
        "\n",
        "  for col in column:\n",
        "\n",
        "    df[col] = df[col].replace(\n",
        "        {\n",
        "            'never': 0,\n",
        "            'less1': 1,\n",
        "            '1~3': 2,\n",
        "            '4~8': 3,\n",
        "            'gt8': 4\n",
        "        }\n",
        "    )\n",
        "\n",
        "manual_encode(data)"
      ],
      "metadata": {
        "id": "C3h_QHMkrHd2"
      },
      "execution_count": 70,
      "outputs": []
    },
    {
      "cell_type": "code",
      "source": [
        "# We will Label Encode the following columns as they don't follow a order of hierarchy\n",
        "\n",
        "encoder = LabelEncoder()\n",
        "def label_encode(df):\n",
        "\n",
        "  column = [\"destination\", \"passanger\", \"weather\", \"time\", \"coupon\", \"expiration\", \"age\", \"maritalStatus\", \"education\", \"occupation\"]\n",
        "\n",
        "  for col in column:\n",
        "    df[col] = encoder.fit_transform(df[col])\n",
        "\n",
        "label_encode(data)"
      ],
      "metadata": {
        "id": "-oDkNEAB1jSs"
      },
      "execution_count": 71,
      "outputs": []
    },
    {
      "cell_type": "code",
      "source": [
        "data['temperature'] = data['temperature'].replace({30: 0, 55: 1, 80: 2}) # Encoding Temperature column as told in previous notebook|"
      ],
      "metadata": {
        "id": "CTMF56qM59Fp"
      },
      "execution_count": 72,
      "outputs": []
    },
    {
      "cell_type": "code",
      "source": [
        "# Ordinal Encoding manually as they are in increasing order of importance\n",
        "income_order = {'less than $12500': 0, '$12500 - $24999': 1, '$25000 - $37499': 2, '$37500 - $49999': 3,\n",
        "                '$50000 - $62499': 4, '$62500 - $74999': 5, '$75000 - $87499': 6, '$87500 - $99999': 7, '$100000 or more': 8}\n",
        "\n",
        "data['income'] = data['income'].replace(income_order)"
      ],
      "metadata": {
        "id": "YNjLbx_z7sQG"
      },
      "execution_count": 73,
      "outputs": []
    },
    {
      "cell_type": "code",
      "source": [
        "data['gender'] = data['gender'].replace({'female': 0, 'male': 1}) # Binary Encoding Gender Column"
      ],
      "metadata": {
        "id": "sLS8P_tb-Fk5"
      },
      "execution_count": 74,
      "outputs": []
    },
    {
      "cell_type": "code",
      "source": [
        "unique_values(data) # All the categorical values have been converted to numerical values"
      ],
      "metadata": {
        "colab": {
          "base_uri": "https://localhost:8080/"
        },
        "id": "A_bN3du_-NK3",
        "outputId": "8705b6d9-7031-4938-e6fd-7fcffd1b4e95"
      },
      "execution_count": 75,
      "outputs": [
        {
          "output_type": "stream",
          "name": "stdout",
          "text": [
            "Unique values in column 'destination':\n",
            "[1 0 2]\n",
            "--------------------------------------------------\n",
            "Unique values in column 'passanger':\n",
            "[0 1 2 3]\n",
            "--------------------------------------------------\n",
            "Unique values in column 'weather':\n",
            "[2 0 1]\n",
            "--------------------------------------------------\n",
            "Unique values in column 'temperature':\n",
            "[1 2 0]\n",
            "--------------------------------------------------\n",
            "Unique values in column 'time':\n",
            "[2 0 3 4 1]\n",
            "--------------------------------------------------\n",
            "Unique values in column 'coupon':\n",
            "[4 2 1 0 3]\n",
            "--------------------------------------------------\n",
            "Unique values in column 'expiration':\n",
            "[0 1]\n",
            "--------------------------------------------------\n",
            "Unique values in column 'gender':\n",
            "[0 1]\n",
            "--------------------------------------------------\n",
            "Unique values in column 'age':\n",
            "[0 5 1 2 4 6 3 7]\n",
            "--------------------------------------------------\n",
            "Unique values in column 'maritalStatus':\n",
            "[3 2 1 0 4]\n",
            "--------------------------------------------------\n",
            "Unique values in column 'has_children':\n",
            "[1 0]\n",
            "--------------------------------------------------\n",
            "Unique values in column 'education':\n",
            "[4 1 0 3 2 5]\n",
            "--------------------------------------------------\n",
            "Unique values in column 'occupation':\n",
            "[24  0 22  7 11 10 21 15  1  5 14 17  4 16  6 13 20 12 23  3 19  9 18  2\n",
            "  8]\n",
            "--------------------------------------------------\n",
            "Unique values in column 'income':\n",
            "[3 5 1 6 4 2 8 7 0]\n",
            "--------------------------------------------------\n",
            "Unique values in column 'Bar':\n",
            "[0 1 2 4 3]\n",
            "--------------------------------------------------\n",
            "Unique values in column 'CoffeeHouse':\n",
            "[0 1 3 2 4]\n",
            "--------------------------------------------------\n",
            "Unique values in column 'CarryAway':\n",
            "[2 3 4 1 0]\n",
            "--------------------------------------------------\n",
            "Unique values in column 'RestaurantLessThan20':\n",
            "[3 2 1 4 0]\n",
            "--------------------------------------------------\n",
            "Unique values in column 'Restaurant20To50':\n",
            "[2 1 0 4 3]\n",
            "--------------------------------------------------\n",
            "Unique values in column 'toCoupon_GEQ15min':\n",
            "[0 1]\n",
            "--------------------------------------------------\n",
            "Unique values in column 'toCoupon_GEQ25min':\n",
            "[0 1]\n",
            "--------------------------------------------------\n",
            "Unique values in column 'direction_same':\n",
            "[0 1]\n",
            "--------------------------------------------------\n",
            "Unique values in column 'Y':\n",
            "[1 0]\n",
            "--------------------------------------------------\n"
          ]
        }
      ]
    },
    {
      "cell_type": "markdown",
      "source": [
        "# Analysing The performance of Label Encoding on Different Models"
      ],
      "metadata": {
        "id": "QOQ30avC-mi0"
      }
    },
    {
      "cell_type": "code",
      "source": [
        "X = data.drop('Y', axis=1)\n",
        "y = data['Y']\n",
        "\n",
        "X_train, X_test, y_train, y_test = train_test_split(X, y, test_size=0.2, random_state=42)"
      ],
      "metadata": {
        "id": "FIjZLJyK_NlY"
      },
      "execution_count": 76,
      "outputs": []
    },
    {
      "cell_type": "code",
      "source": [
        "rf = RandomForestClassifier(n_estimators=200, random_state=42)\n",
        "rf.fit(X_train, y_train)\n",
        "y_pred = rf.predict(X_test)\n",
        "accuracy = accuracy_score(y_test, y_pred)\n",
        "print(f\"Accuracy: {accuracy}\")"
      ],
      "metadata": {
        "colab": {
          "base_uri": "https://localhost:8080/"
        },
        "id": "gC10H6bT_D32",
        "outputId": "46488cc4-43f2-4a23-b525-6bcf7f574083"
      },
      "execution_count": 77,
      "outputs": [
        {
          "output_type": "stream",
          "name": "stdout",
          "text": [
            "Accuracy: 0.73949246629659\n"
          ]
        }
      ]
    },
    {
      "cell_type": "code",
      "source": [
        "xgb = XGBClassifier(n_estimators=200, random_state=42)\n",
        "xgb.fit(X_train, y_train)\n",
        "y_pred = xgb.predict(X_test)\n",
        "accuracy = accuracy_score(y_test, y_pred)\n",
        "print(f\"Accuracy: {accuracy}\")"
      ],
      "metadata": {
        "colab": {
          "base_uri": "https://localhost:8080/"
        },
        "id": "WwdpJAlA_z4w",
        "outputId": "1068028f-3b57-4f97-830b-9f0e05a2c2bf"
      },
      "execution_count": 78,
      "outputs": [
        {
          "output_type": "stream",
          "name": "stdout",
          "text": [
            "Accuracy: 0.7458366375892149\n"
          ]
        }
      ]
    },
    {
      "cell_type": "markdown",
      "source": [
        "# Feature Engineering"
      ],
      "metadata": {
        "id": "qdxGmrL3BXb-"
      }
    },
    {
      "cell_type": "code",
      "source": [
        "data['is_morning'] = data['time'].apply(lambda x: 1 if x in [0, 1] else 0) # If Time is morning than 1 else 0"
      ],
      "metadata": {
        "id": "_9nVTU3V_-op"
      },
      "execution_count": 79,
      "outputs": []
    },
    {
      "cell_type": "code",
      "source": [
        "data['is_evening'] = data['time'].apply(lambda x: 1 if x in [3, 4] else 0) # If Time is evening than 1 else 0"
      ],
      "metadata": {
        "id": "XKgwWo-6CA2m"
      },
      "execution_count": 80,
      "outputs": []
    },
    {
      "cell_type": "code",
      "source": [
        "data['is_urgent'] = data['destination'].apply(lambda x: 1 if x != 0 else 0) # If destination is not 0 than 1 else 0"
      ],
      "metadata": {
        "id": "ttZ350WICA5Q"
      },
      "execution_count": 81,
      "outputs": []
    },
    {
      "cell_type": "code",
      "source": [
        "data['is_food_coupon'] = data['coupon'].apply(lambda x: 1 if x in [0, 2, 4] else 0) # If coupon is food coupon than 1 else 0"
      ],
      "metadata": {
        "id": "Vytm2LsYCA8E"
      },
      "execution_count": 82,
      "outputs": []
    },
    {
      "cell_type": "code",
      "source": [
        "data['low_income'] = data['income'].apply(lambda x: 1 if x < 3 else 0) # If low income than 1 else 0"
      ],
      "metadata": {
        "id": "joLjlXReCA-n"
      },
      "execution_count": 83,
      "outputs": []
    },
    {
      "cell_type": "code",
      "source": [
        "data['high_income'] = data['income'].apply(lambda x: 1 if x > 6 else 0) # If high income than 1 else 0"
      ],
      "metadata": {
        "id": "BlNlkNhWCBCR"
      },
      "execution_count": 84,
      "outputs": []
    },
    {
      "cell_type": "code",
      "source": [
        "unique_values(data) # New Features have been added"
      ],
      "metadata": {
        "colab": {
          "base_uri": "https://localhost:8080/"
        },
        "id": "LH2m3-dMCBIz",
        "outputId": "71fee998-10b0-42ad-96fb-97a3c492ab46"
      },
      "execution_count": 85,
      "outputs": [
        {
          "output_type": "stream",
          "name": "stdout",
          "text": [
            "Unique values in column 'destination':\n",
            "[1 0 2]\n",
            "--------------------------------------------------\n",
            "Unique values in column 'passanger':\n",
            "[0 1 2 3]\n",
            "--------------------------------------------------\n",
            "Unique values in column 'weather':\n",
            "[2 0 1]\n",
            "--------------------------------------------------\n",
            "Unique values in column 'temperature':\n",
            "[1 2 0]\n",
            "--------------------------------------------------\n",
            "Unique values in column 'time':\n",
            "[2 0 3 4 1]\n",
            "--------------------------------------------------\n",
            "Unique values in column 'coupon':\n",
            "[4 2 1 0 3]\n",
            "--------------------------------------------------\n",
            "Unique values in column 'expiration':\n",
            "[0 1]\n",
            "--------------------------------------------------\n",
            "Unique values in column 'gender':\n",
            "[0 1]\n",
            "--------------------------------------------------\n",
            "Unique values in column 'age':\n",
            "[0 5 1 2 4 6 3 7]\n",
            "--------------------------------------------------\n",
            "Unique values in column 'maritalStatus':\n",
            "[3 2 1 0 4]\n",
            "--------------------------------------------------\n",
            "Unique values in column 'has_children':\n",
            "[1 0]\n",
            "--------------------------------------------------\n",
            "Unique values in column 'education':\n",
            "[4 1 0 3 2 5]\n",
            "--------------------------------------------------\n",
            "Unique values in column 'occupation':\n",
            "[24  0 22  7 11 10 21 15  1  5 14 17  4 16  6 13 20 12 23  3 19  9 18  2\n",
            "  8]\n",
            "--------------------------------------------------\n",
            "Unique values in column 'income':\n",
            "[3 5 1 6 4 2 8 7 0]\n",
            "--------------------------------------------------\n",
            "Unique values in column 'Bar':\n",
            "[0 1 2 4 3]\n",
            "--------------------------------------------------\n",
            "Unique values in column 'CoffeeHouse':\n",
            "[0 1 3 2 4]\n",
            "--------------------------------------------------\n",
            "Unique values in column 'CarryAway':\n",
            "[2 3 4 1 0]\n",
            "--------------------------------------------------\n",
            "Unique values in column 'RestaurantLessThan20':\n",
            "[3 2 1 4 0]\n",
            "--------------------------------------------------\n",
            "Unique values in column 'Restaurant20To50':\n",
            "[2 1 0 4 3]\n",
            "--------------------------------------------------\n",
            "Unique values in column 'toCoupon_GEQ15min':\n",
            "[0 1]\n",
            "--------------------------------------------------\n",
            "Unique values in column 'toCoupon_GEQ25min':\n",
            "[0 1]\n",
            "--------------------------------------------------\n",
            "Unique values in column 'direction_same':\n",
            "[0 1]\n",
            "--------------------------------------------------\n",
            "Unique values in column 'Y':\n",
            "[1 0]\n",
            "--------------------------------------------------\n",
            "Unique values in column 'is_morning':\n",
            "[0 1]\n",
            "--------------------------------------------------\n",
            "Unique values in column 'is_evening':\n",
            "[0 1]\n",
            "--------------------------------------------------\n",
            "Unique values in column 'is_urgent':\n",
            "[1 0]\n",
            "--------------------------------------------------\n",
            "Unique values in column 'is_food_coupon':\n",
            "[1 0]\n",
            "--------------------------------------------------\n",
            "Unique values in column 'low_income':\n",
            "[0 1]\n",
            "--------------------------------------------------\n",
            "Unique values in column 'high_income':\n",
            "[0 1]\n",
            "--------------------------------------------------\n"
          ]
        }
      ]
    },
    {
      "cell_type": "markdown",
      "source": [
        "# Analysing New Feature Importance on Model"
      ],
      "metadata": {
        "id": "jbGS-tlgDLA7"
      }
    },
    {
      "cell_type": "code",
      "source": [
        "X = data.drop('Y', axis=1)\n",
        "y = data['Y']\n",
        "\n",
        "X_train, X_test, y_train, y_test = train_test_split(X, y, test_size=0.2, random_state=42)"
      ],
      "metadata": {
        "id": "Nmb42vFBDDSk"
      },
      "execution_count": 86,
      "outputs": []
    },
    {
      "cell_type": "code",
      "source": [
        "rf = RandomForestClassifier(n_estimators=200, random_state=42)\n",
        "rf.fit(X_train, y_train)\n",
        "y_pred = rf.predict(X_test)\n",
        "accuracy = accuracy_score(y_test, y_pred)\n",
        "print(f\"Accuracy: {accuracy}\")"
      ],
      "metadata": {
        "colab": {
          "base_uri": "https://localhost:8080/"
        },
        "id": "DCHbRxcPDZnl",
        "outputId": "b97e7d2a-b2dd-4892-ee5e-d083cc14830e"
      },
      "execution_count": 87,
      "outputs": [
        {
          "output_type": "stream",
          "name": "stdout",
          "text": [
            "Accuracy: 0.7402854877081682\n"
          ]
        }
      ]
    },
    {
      "cell_type": "code",
      "source": [
        "xgb = XGBClassifier(n_estimators=200, random_state=42)\n",
        "xgb.fit(X_train, y_train)\n",
        "y_pred = xgb.predict(X_test)\n",
        "accuracy = accuracy_score(y_test, y_pred)\n",
        "print(f\"Accuracy: {accuracy}\")"
      ],
      "metadata": {
        "id": "fPfuVKmNDwKR",
        "outputId": "f03dd5ba-9d4a-4ce8-e6d1-47e7a0701034",
        "colab": {
          "base_uri": "https://localhost:8080/"
        }
      },
      "execution_count": 88,
      "outputs": [
        {
          "output_type": "stream",
          "name": "stdout",
          "text": [
            "Accuracy: 0.7482157018239493\n"
          ]
        }
      ]
    },
    {
      "cell_type": "code",
      "source": [
        "data = data.drop(['is_morning', 'is_evening', 'is_urgent', 'is_food_coupon', 'low_income', 'high_income'], axis=1) # Removing New Features"
      ],
      "metadata": {
        "id": "aUZvFUj3FkYb"
      },
      "execution_count": 89,
      "outputs": []
    },
    {
      "cell_type": "code",
      "source": [
        "data.to_csv('encoded-in-vehicle-coupon-recommendation.csv', index=False)"
      ],
      "metadata": {
        "id": "RRJi2jfCGQcS"
      },
      "execution_count": 92,
      "outputs": []
    },
    {
      "cell_type": "markdown",
      "source": [
        "# Final Analyses\n",
        "\n",
        "1. First we Encoded all the categorical columns to the Numerical Values by different ways like Label Encoding, Manually Using Replace Method.\n",
        "2. Then we calculated the accuracy of dataset on models like XGBoost, Random Forest\n",
        "3. Then we created New Features and Calculated accuracy again\n",
        "4. Since the accuracy remained same so new features are of no use we removed them again.\n",
        "5. We Created the final dataset which contains the Encoded Numerical values in all the columns"
      ],
      "metadata": {
        "id": "wYXL36IIEUVQ"
      }
    }
  ]
}