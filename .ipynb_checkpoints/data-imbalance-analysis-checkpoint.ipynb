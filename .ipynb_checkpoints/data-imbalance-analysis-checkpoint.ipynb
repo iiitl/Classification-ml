{
 "cells": [
  {
   "cell_type": "markdown",
   "id": "d6eff814-c8a0-418e-90d4-590127e94ea9",
   "metadata": {},
   "source": [
    "# Importing Libraries"
   ]
  },
  {
   "cell_type": "code",
   "execution_count": 95,
   "id": "1a0c656f-075d-4dc1-932a-b5bad68627f1",
   "metadata": {},
   "outputs": [],
   "source": [
    "import pandas as pd\n",
    "import numpy as np\n",
    "import matplotlib as plt\n",
    "import seaborn as sns\n",
    "from imblearn.over_sampling import SMOTE\n",
    "from sklearn.model_selection import train_test_split\n",
    "from sklearn.ensemble import RandomForestClassifier\n",
    "from sklearn.metrics import accuracy_score, precision_score, recall_score, f1_score\n"
   ]
  },
  {
   "cell_type": "markdown",
   "id": "9df03f1c-d28c-48db-9b44-a317b268769f",
   "metadata": {},
   "source": [
    "# Importing Dataset"
   ]
  },
  {
   "cell_type": "code",
   "execution_count": 96,
   "id": "171de588-79f4-4081-b936-a1536b3bb45a",
   "metadata": {},
   "outputs": [
    {
     "data": {
      "text/html": [
       "<div>\n",
       "<style scoped>\n",
       "    .dataframe tbody tr th:only-of-type {\n",
       "        vertical-align: middle;\n",
       "    }\n",
       "\n",
       "    .dataframe tbody tr th {\n",
       "        vertical-align: top;\n",
       "    }\n",
       "\n",
       "    .dataframe thead th {\n",
       "        text-align: right;\n",
       "    }\n",
       "</style>\n",
       "<table border=\"1\" class=\"dataframe\">\n",
       "  <thead>\n",
       "    <tr style=\"text-align: right;\">\n",
       "      <th></th>\n",
       "      <th>temperature</th>\n",
       "      <th>expiration</th>\n",
       "      <th>gender</th>\n",
       "      <th>has_children</th>\n",
       "      <th>education</th>\n",
       "      <th>occupation</th>\n",
       "      <th>income</th>\n",
       "      <th>Bar</th>\n",
       "      <th>CoffeeHouse</th>\n",
       "      <th>CarryAway</th>\n",
       "      <th>...</th>\n",
       "      <th>age_41</th>\n",
       "      <th>age_46</th>\n",
       "      <th>age_50plus</th>\n",
       "      <th>age_below21</th>\n",
       "      <th>maritalStatus_Divorced</th>\n",
       "      <th>maritalStatus_Married partner</th>\n",
       "      <th>maritalStatus_Single</th>\n",
       "      <th>maritalStatus_Unmarried partner</th>\n",
       "      <th>maritalStatus_Widowed</th>\n",
       "      <th>Y</th>\n",
       "    </tr>\n",
       "  </thead>\n",
       "  <tbody>\n",
       "    <tr>\n",
       "      <th>0</th>\n",
       "      <td>0.375</td>\n",
       "      <td>0</td>\n",
       "      <td>0</td>\n",
       "      <td>1</td>\n",
       "      <td>5</td>\n",
       "      <td>24</td>\n",
       "      <td>3</td>\n",
       "      <td>0</td>\n",
       "      <td>0</td>\n",
       "      <td>2</td>\n",
       "      <td>...</td>\n",
       "      <td>0.0</td>\n",
       "      <td>0.0</td>\n",
       "      <td>0.0</td>\n",
       "      <td>0.0</td>\n",
       "      <td>0.0</td>\n",
       "      <td>0.0</td>\n",
       "      <td>0.0</td>\n",
       "      <td>1.0</td>\n",
       "      <td>0.0</td>\n",
       "      <td>1</td>\n",
       "    </tr>\n",
       "    <tr>\n",
       "      <th>1</th>\n",
       "      <td>0.625</td>\n",
       "      <td>1</td>\n",
       "      <td>0</td>\n",
       "      <td>1</td>\n",
       "      <td>5</td>\n",
       "      <td>24</td>\n",
       "      <td>3</td>\n",
       "      <td>0</td>\n",
       "      <td>0</td>\n",
       "      <td>2</td>\n",
       "      <td>...</td>\n",
       "      <td>0.0</td>\n",
       "      <td>0.0</td>\n",
       "      <td>0.0</td>\n",
       "      <td>0.0</td>\n",
       "      <td>0.0</td>\n",
       "      <td>0.0</td>\n",
       "      <td>0.0</td>\n",
       "      <td>1.0</td>\n",
       "      <td>0.0</td>\n",
       "      <td>0</td>\n",
       "    </tr>\n",
       "    <tr>\n",
       "      <th>2</th>\n",
       "      <td>0.625</td>\n",
       "      <td>1</td>\n",
       "      <td>0</td>\n",
       "      <td>1</td>\n",
       "      <td>5</td>\n",
       "      <td>24</td>\n",
       "      <td>3</td>\n",
       "      <td>0</td>\n",
       "      <td>0</td>\n",
       "      <td>2</td>\n",
       "      <td>...</td>\n",
       "      <td>0.0</td>\n",
       "      <td>0.0</td>\n",
       "      <td>0.0</td>\n",
       "      <td>0.0</td>\n",
       "      <td>0.0</td>\n",
       "      <td>0.0</td>\n",
       "      <td>0.0</td>\n",
       "      <td>1.0</td>\n",
       "      <td>0.0</td>\n",
       "      <td>1</td>\n",
       "    </tr>\n",
       "    <tr>\n",
       "      <th>3</th>\n",
       "      <td>0.625</td>\n",
       "      <td>1</td>\n",
       "      <td>0</td>\n",
       "      <td>1</td>\n",
       "      <td>5</td>\n",
       "      <td>24</td>\n",
       "      <td>3</td>\n",
       "      <td>0</td>\n",
       "      <td>0</td>\n",
       "      <td>2</td>\n",
       "      <td>...</td>\n",
       "      <td>0.0</td>\n",
       "      <td>0.0</td>\n",
       "      <td>0.0</td>\n",
       "      <td>0.0</td>\n",
       "      <td>0.0</td>\n",
       "      <td>0.0</td>\n",
       "      <td>0.0</td>\n",
       "      <td>1.0</td>\n",
       "      <td>0.0</td>\n",
       "      <td>0</td>\n",
       "    </tr>\n",
       "    <tr>\n",
       "      <th>4</th>\n",
       "      <td>0.625</td>\n",
       "      <td>0</td>\n",
       "      <td>0</td>\n",
       "      <td>1</td>\n",
       "      <td>5</td>\n",
       "      <td>24</td>\n",
       "      <td>3</td>\n",
       "      <td>0</td>\n",
       "      <td>0</td>\n",
       "      <td>2</td>\n",
       "      <td>...</td>\n",
       "      <td>0.0</td>\n",
       "      <td>0.0</td>\n",
       "      <td>0.0</td>\n",
       "      <td>0.0</td>\n",
       "      <td>0.0</td>\n",
       "      <td>0.0</td>\n",
       "      <td>0.0</td>\n",
       "      <td>1.0</td>\n",
       "      <td>0.0</td>\n",
       "      <td>0</td>\n",
       "    </tr>\n",
       "  </tbody>\n",
       "</table>\n",
       "<p>5 rows × 49 columns</p>\n",
       "</div>"
      ],
      "text/plain": [
       "   temperature  expiration  gender  has_children  education  occupation  \\\n",
       "0        0.375           0       0             1          5          24   \n",
       "1        0.625           1       0             1          5          24   \n",
       "2        0.625           1       0             1          5          24   \n",
       "3        0.625           1       0             1          5          24   \n",
       "4        0.625           0       0             1          5          24   \n",
       "\n",
       "   income  Bar  CoffeeHouse  CarryAway  ...  age_41  age_46  age_50plus  \\\n",
       "0       3    0            0          2  ...     0.0     0.0         0.0   \n",
       "1       3    0            0          2  ...     0.0     0.0         0.0   \n",
       "2       3    0            0          2  ...     0.0     0.0         0.0   \n",
       "3       3    0            0          2  ...     0.0     0.0         0.0   \n",
       "4       3    0            0          2  ...     0.0     0.0         0.0   \n",
       "\n",
       "   age_below21  maritalStatus_Divorced  maritalStatus_Married partner  \\\n",
       "0          0.0                     0.0                            0.0   \n",
       "1          0.0                     0.0                            0.0   \n",
       "2          0.0                     0.0                            0.0   \n",
       "3          0.0                     0.0                            0.0   \n",
       "4          0.0                     0.0                            0.0   \n",
       "\n",
       "   maritalStatus_Single  maritalStatus_Unmarried partner  \\\n",
       "0                   0.0                              1.0   \n",
       "1                   0.0                              1.0   \n",
       "2                   0.0                              1.0   \n",
       "3                   0.0                              1.0   \n",
       "4                   0.0                              1.0   \n",
       "\n",
       "   maritalStatus_Widowed  Y  \n",
       "0                    0.0  1  \n",
       "1                    0.0  0  \n",
       "2                    0.0  1  \n",
       "3                    0.0  0  \n",
       "4                    0.0  0  \n",
       "\n",
       "[5 rows x 49 columns]"
      ]
     },
     "execution_count": 96,
     "metadata": {},
     "output_type": "execute_result"
    }
   ],
   "source": [
    "data = pd.read_csv('most-cleaned-in-vehicle-coupon-recommendation.csv')\n",
    "data.drop(columns=['Unnamed: 0'], inplace=True)\n",
    "target_col = data.pop('Y')  \n",
    "data.insert(len(data.columns), 'Y', target_col)\n",
    "data.head()"
   ]
  },
  {
   "cell_type": "code",
   "execution_count": 97,
   "id": "8d61b695-4611-441a-b5e6-037952f07bdf",
   "metadata": {},
   "outputs": [
    {
     "name": "stdout",
     "output_type": "stream",
     "text": [
      "<class 'pandas.core.frame.DataFrame'>\n",
      "RangeIndex: 12610 entries, 0 to 12609\n",
      "Data columns (total 49 columns):\n",
      " #   Column                           Non-Null Count  Dtype  \n",
      "---  ------                           --------------  -----  \n",
      " 0   temperature                      12610 non-null  float64\n",
      " 1   expiration                       12610 non-null  int64  \n",
      " 2   gender                           12610 non-null  int64  \n",
      " 3   has_children                     12610 non-null  int64  \n",
      " 4   education                        12610 non-null  int64  \n",
      " 5   occupation                       12610 non-null  int64  \n",
      " 6   income                           12610 non-null  int64  \n",
      " 7   Bar                              12610 non-null  int64  \n",
      " 8   CoffeeHouse                      12610 non-null  int64  \n",
      " 9   CarryAway                        12610 non-null  int64  \n",
      " 10  RestaurantLessThan20             12610 non-null  int64  \n",
      " 11  Restaurant20To50                 12610 non-null  int64  \n",
      " 12  toCoupon_GEQ15min                12610 non-null  int64  \n",
      " 13  toCoupon_GEQ25min                12610 non-null  int64  \n",
      " 14  direction_same                   12610 non-null  int64  \n",
      " 15  destination_Home                 12610 non-null  float64\n",
      " 16  destination_No Urgent Place      12610 non-null  float64\n",
      " 17  destination_Work                 12610 non-null  float64\n",
      " 18  passanger_Alone                  12610 non-null  float64\n",
      " 19  passanger_Friend(s)              12610 non-null  float64\n",
      " 20  passanger_Kid(s)                 12610 non-null  float64\n",
      " 21  passanger_Partner                12610 non-null  float64\n",
      " 22  weather_Rainy                    12610 non-null  float64\n",
      " 23  weather_Snowy                    12610 non-null  float64\n",
      " 24  weather_Sunny                    12610 non-null  float64\n",
      " 25  time_10AM                        12610 non-null  float64\n",
      " 26  time_10PM                        12610 non-null  float64\n",
      " 27  time_2PM                         12610 non-null  float64\n",
      " 28  time_6PM                         12610 non-null  float64\n",
      " 29  time_7AM                         12610 non-null  float64\n",
      " 30  coupon_Bar                       12610 non-null  float64\n",
      " 31  coupon_Carry out & Take away     12610 non-null  float64\n",
      " 32  coupon_Coffee House              12610 non-null  float64\n",
      " 33  coupon_Restaurant(20-50)         12610 non-null  float64\n",
      " 34  coupon_Restaurant(<20)           12610 non-null  float64\n",
      " 35  age_21                           12610 non-null  float64\n",
      " 36  age_26                           12610 non-null  float64\n",
      " 37  age_31                           12610 non-null  float64\n",
      " 38  age_36                           12610 non-null  float64\n",
      " 39  age_41                           12610 non-null  float64\n",
      " 40  age_46                           12610 non-null  float64\n",
      " 41  age_50plus                       12610 non-null  float64\n",
      " 42  age_below21                      12610 non-null  float64\n",
      " 43  maritalStatus_Divorced           12610 non-null  float64\n",
      " 44  maritalStatus_Married partner    12610 non-null  float64\n",
      " 45  maritalStatus_Single             12610 non-null  float64\n",
      " 46  maritalStatus_Unmarried partner  12610 non-null  float64\n",
      " 47  maritalStatus_Widowed            12610 non-null  float64\n",
      " 48  Y                                12610 non-null  int64  \n",
      "dtypes: float64(34), int64(15)\n",
      "memory usage: 4.7 MB\n"
     ]
    }
   ],
   "source": [
    "data.info()"
   ]
  },
  {
   "cell_type": "markdown",
   "id": "61c32190-b1a1-476f-b964-8d65abd84314",
   "metadata": {},
   "source": [
    "# Data Imbalance Handling"
   ]
  },
  {
   "cell_type": "code",
   "execution_count": 98,
   "id": "a5d7a814-d454-4b04-aa2a-a50d6c82286a",
   "metadata": {},
   "outputs": [
    {
     "data": {
      "text/plain": [
       "<Axes: xlabel='Y', ylabel='count'>"
      ]
     },
     "execution_count": 98,
     "metadata": {},
     "output_type": "execute_result"
    },
    {
     "data": {
      "image/png": "[encoded data removed]",
      "text/plain": [
       "<Figure size 640x480 with 1 Axes>"
      ]
     },
     "metadata": {},
     "output_type": "display_data"
    }
   ],
   "source": [
    "sns.countplot(x='Y', data=data)"
   ]
  },
  {
   "cell_type": "markdown",
   "id": "a4d4e5e7-0a4a-4086-a6ca-01bcee74cc55",
   "metadata": {},
   "source": [
    "### There is not very much Imbalancing in target variable, the count of 1 is a bit greater than 0 "
   ]
  },
  {
   "cell_type": "markdown",
   "id": "6b40eb4e-807d-4d1b-843e-be7adfd466f2",
   "metadata": {},
   "source": [
    "# Training Model and checking Accuracy Before Handling Data Imbalancing"
   ]
  },
  {
   "cell_type": "code",
   "execution_count": 99,
   "id": "59d5a672-6611-4628-a79b-65cf5dd6f2cf",
   "metadata": {},
   "outputs": [],
   "source": [
    "X = data.drop('Y', axis=1) \n",
    "y = data['Y'] \n",
    "\n",
    "X_train, X_test, y_train, y_test = train_test_split(X, y, test_size=0.2, random_state=42)"
   ]
  },
  {
   "cell_type": "code",
   "execution_count": 100,
   "id": "be6e0c9d-18f2-4f14-b46a-141189e7d3dc",
   "metadata": {},
   "outputs": [
    {
     "name": "stdout",
     "output_type": "stream",
     "text": [
      "Accuracy: 0.7375099127676448\n",
      "Precision: 0.7523427041499331\n",
      "Recall: 0.7937853107344632\n",
      "F1-score: 0.7725085910652921\n"
     ]
    }
   ],
   "source": [
    "model = RandomForestClassifier(random_state=42, n_estimators = 100)\n",
    "model.fit(X_train, y_train)\n",
    "\n",
    "y_pred = model.predict(X_test)\n",
    "\n",
    "print(\"Accuracy:\", accuracy_score(y_test, y_pred))\n",
    "print(\"Precision:\", precision_score(y_test, y_pred))\n",
    "print(\"Recall:\", recall_score(y_test, y_pred))\n",
    "print(\"F1-score:\", f1_score(y_test, y_pred))"
   ]
  },
  {
   "cell_type": "markdown",
   "id": "1edcf48e-8d69-4e74-948e-09d1ee51c7f2",
   "metadata": {},
   "source": [
    "# Training Model and checking Accuracy Before Handling Data Imbalancing"
   ]
  },
  {
   "cell_type": "code",
   "execution_count": 101,
   "id": "ceb7bfb2-dceb-499d-ab89-3ff474cef1e7",
   "metadata": {},
   "outputs": [],
   "source": [
    "smote = SMOTE(random_state=42)\n",
    "X_train_resampled, y_train_resampled = smote.fit_resample(X_train, y_train)"
   ]
  },
  {
   "cell_type": "code",
   "execution_count": 102,
   "id": "c27797ec-291f-40fa-ba22-a9091bd3aa7a",
   "metadata": {},
   "outputs": [
    {
     "name": "stdout",
     "output_type": "stream",
     "text": [
      "Accuracy: 0.7303727200634417\n",
      "Precision: 0.7483130904183536\n",
      "Recall: 0.7831920903954802\n",
      "F1-score: 0.7653554175293306\n"
     ]
    }
   ],
   "source": [
    "model = RandomForestClassifier(random_state=42, n_estimators = 100)\n",
    "model.fit(X_train_resampled, y_train_resampled)\n",
    "\n",
    "y_pred = model.predict(X_test)\n",
    "\n",
    "print(\"Accuracy:\", accuracy_score(y_test, y_pred))\n",
    "print(\"Precision:\", precision_score(y_test, y_pred))\n",
    "print(\"Recall:\", recall_score(y_test, y_pred))\n",
    "print(\"F1-score:\", f1_score(y_test, y_pred))"
   ]
  }
 ],
 "metadata": {
  "kernelspec": {
   "display_name": "Python 3 (ipykernel)",
   "language": "python",
   "name": "python3"
  },
  "language_info": {
   "codemirror_mode": {
    "name": "ipython",
    "version": 3
   },
   "file_extension": ".py",
   "mimetype": "text/x-python",
   "name": "python",
   "nbconvert_exporter": "python",
   "pygments_lexer": "ipython3",
   "version": "3.12.2"
  }
 },
 "nbformat": 4,
 "nbformat_minor": 5
}
