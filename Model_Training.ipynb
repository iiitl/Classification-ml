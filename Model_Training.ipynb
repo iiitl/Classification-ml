{
  "cells": [
    {
      "cell_type": "markdown",
      "metadata": {
        "id": "B4GnByImknve"
      },
      "source": [
        "# Issue 7 : Model Selection and Feature Selection\n",
        "\n",
        "## **Task Overview**\n",
        "- Train multiple classification models:\n",
        "  - **Logistic Regression**\n",
        "  - **Random Forest**\n",
        "  - **XGBoost**\n",
        "- Perform **feature selection & engineering**.\n",
        "- Evaluate models using **Cross-Validation (CV)**.\n",
        "- Compare models based on:\n",
        "  - **Accuracy**\n",
        "  - **Precision**\n",
        "  - **Recall**\n",
        "  - **F1-Score**\n",
        "- Use **visualizations** for performance comparison."
      ]
    },
    {
      "cell_type": "markdown",
      "metadata": {
        "id": "BDwn4Ok2k-ZI"
      },
      "source": [
        "# Importing Libraries"
      ]
    },
    {
      "cell_type": "code",
      "source": [
        "import numpy as np\n",
        "import pandas as pd\n",
        "import matplotlib.pyplot as plt\n",
        "import seaborn as sns\n",
        "from sklearn.model_selection import train_test_split\n",
        "from sklearn.preprocessing import StandardScaler\n",
        "from sklearn.feature_selection import SelectKBest, f_classif\n",
        "from imblearn.over_sampling import SMOTE\n",
        "from sklearn.linear_model import LogisticRegression\n",
        "from sklearn.ensemble import RandomForestClassifier\n",
        "from sklearn.neighbors import KNeighborsClassifier\n",
        "from xgboost import XGBClassifier\n",
        "from sklearn.model_selection import cross_val_score\n",
        "from sklearn.metrics import make_scorer, accuracy_score, precision_score, recall_score, f1_score"
      ],
      "metadata": {
        "id": "nnwqI5CGnlQh"
      },
      "execution_count": 44,
      "outputs": []
    },
    {
      "cell_type": "code",
      "execution_count": 45,
      "metadata": {
        "id": "P7_VJ742lSxZ"
      },
      "outputs": [],
      "source": [
        "data = pd.read_csv(\"encoded-in-vehicle-coupon-recommendation.csv\")"
      ]
    },
    {
      "cell_type": "code",
      "execution_count": 46,
      "metadata": {
        "colab": {
          "base_uri": "https://localhost:8080/"
        },
        "id": "TOyPIdQ_lWKc",
        "outputId": "60bbfbbe-7267-491d-83b8-0962d3eb7da8"
      },
      "outputs": [
        {
          "output_type": "stream",
          "name": "stdout",
          "text": [
            "<class 'pandas.core.frame.DataFrame'>\n",
            "RangeIndex: 12610 entries, 0 to 12609\n",
            "Data columns (total 23 columns):\n",
            " #   Column                Non-Null Count  Dtype\n",
            "---  ------                --------------  -----\n",
            " 0   destination           12610 non-null  int64\n",
            " 1   passanger             12610 non-null  int64\n",
            " 2   weather               12610 non-null  int64\n",
            " 3   temperature           12610 non-null  int64\n",
            " 4   time                  12610 non-null  int64\n",
            " 5   coupon                12610 non-null  int64\n",
            " 6   expiration            12610 non-null  int64\n",
            " 7   gender                12610 non-null  int64\n",
            " 8   age                   12610 non-null  int64\n",
            " 9   maritalStatus         12610 non-null  int64\n",
            " 10  has_children          12610 non-null  int64\n",
            " 11  education             12610 non-null  int64\n",
            " 12  occupation            12610 non-null  int64\n",
            " 13  income                12610 non-null  int64\n",
            " 14  Bar                   12610 non-null  int64\n",
            " 15  CoffeeHouse           12610 non-null  int64\n",
            " 16  CarryAway             12610 non-null  int64\n",
            " 17  RestaurantLessThan20  12610 non-null  int64\n",
            " 18  Restaurant20To50      12610 non-null  int64\n",
            " 19  toCoupon_GEQ15min     12610 non-null  int64\n",
            " 20  toCoupon_GEQ25min     12610 non-null  int64\n",
            " 21  direction_same        12610 non-null  int64\n",
            " 22  Y                     12610 non-null  int64\n",
            "dtypes: int64(23)\n",
            "memory usage: 2.2 MB\n"
          ]
        }
      ],
      "source": [
        "data.info()"
      ]
    },
    {
      "cell_type": "code",
      "execution_count": 47,
      "metadata": {
        "colab": {
          "base_uri": "https://localhost:8080/",
          "height": 410
        },
        "id": "EiJPDtEflaL-",
        "outputId": "b2edb5fe-a21d-4165-8bda-8facaa1d7f4e"
      },
      "outputs": [
        {
          "output_type": "display_data",
          "data": {
            "text/plain": [
              "<Figure size 600x400 with 1 Axes>"
            ],
            "image/png": "[encoded data removed]"
          },
          "metadata": {}
        }
      ],
      "source": [
        "# Checking Target Class Distribution\n",
        "plt.figure(figsize=(6,4))\n",
        "sns.countplot(x=data[\"Y\"])\n",
        "plt.title(\"Class Distribution\")\n",
        "plt.xlabel(\"Target Class\")\n",
        "plt.ylabel(\"Count\")\n",
        "plt.show()"
      ]
    },
    {
      "cell_type": "code",
      "execution_count": 48,
      "metadata": {
        "id": "5XjdvrrUlgJ4"
      },
      "outputs": [],
      "source": [
        "# Dividing Dependent and Independent variables\n",
        "X = data.drop(\"Y\", axis=1)\n",
        "y = data[\"Y\"]"
      ]
    },
    {
      "cell_type": "code",
      "execution_count": 49,
      "metadata": {
        "id": "RTooaeK3mK7f"
      },
      "outputs": [],
      "source": [
        "# Selecting Top 10 Important Features\n",
        "selector = SelectKBest(f_classif, k=10)\n",
        "X_selected = selector.fit_transform(X, y)"
      ]
    },
    {
      "cell_type": "code",
      "source": [
        "# Splitting the dataset\n",
        "X_train, X_test, y_train, y_test = train_test_split(X_selected, y, test_size=0.2, random_state=42, stratify=y)"
      ],
      "metadata": {
        "id": "87rvT9EUm4wr"
      },
      "execution_count": 50,
      "outputs": []
    },
    {
      "cell_type": "code",
      "source": [
        "# Applying SMOTE to handle imbalance dataset\n",
        "smote = SMOTE(random_state=42)\n",
        "X_train_smote, y_train_smote = smote.fit_resample(X_train, y_train)"
      ],
      "metadata": {
        "id": "XfWpzBc3nAOZ"
      },
      "execution_count": 51,
      "outputs": []
    },
    {
      "cell_type": "code",
      "source": [
        "# Check class distribution after SMOTE\n",
        "plt.figure(figsize=(6,4))\n",
        "sns.countplot(x=y_train_smote)\n",
        "plt.title(\"Class Distribution After SMOTE\")\n",
        "plt.xlabel(\"Target Class\")\n",
        "plt.ylabel(\"Count\")\n",
        "plt.show()"
      ],
      "metadata": {
        "colab": {
          "base_uri": "https://localhost:8080/",
          "height": 410
        },
        "id": "iLhOhHiVnEW3",
        "outputId": "35892729-c123-4d89-fc16-122fabdc0427"
      },
      "execution_count": 52,
      "outputs": [
        {
          "output_type": "display_data",
          "data": {
            "text/plain": [
              "<Figure size 600x400 with 1 Axes>"
            ],
            "image/png": "[encoded data removed]"
          },
          "metadata": {}
        }
      ]
    },
    {
      "cell_type": "code",
      "source": [
        "# Standardize features\n",
        "scaler = StandardScaler()\n",
        "X_train_smote = scaler.fit_transform(X_train_smote)\n",
        "X_test = scaler.transform(X_test)"
      ],
      "metadata": {
        "id": "8O9hNQTnnLjy"
      },
      "execution_count": 53,
      "outputs": []
    },
    {
      "cell_type": "code",
      "source": [
        "# Defining Models to be used for Cross validation\n",
        "models = {\n",
        "    \"Logistic Regression\": LogisticRegression(),\n",
        "    \"Random Forest\": RandomForestClassifier(),\n",
        "    \"XGBoost\": XGBClassifier(),\n",
        "    \"KNN\": KNeighborsClassifier()\n",
        "}"
      ],
      "metadata": {
        "id": "oqN9YC90vP96"
      },
      "execution_count": 57,
      "outputs": []
    },
    {
      "cell_type": "code",
      "source": [
        "# Define scoring metrics\n",
        "scoring_metrics = {\n",
        "    \"accuracy\": make_scorer(accuracy_score),\n",
        "    \"precision\": make_scorer(precision_score),\n",
        "    \"recall\": make_scorer(recall_score),\n",
        "    \"f1\": make_scorer(f1_score)\n",
        "}"
      ],
      "metadata": {
        "id": "jL7-JQIXnQ-k"
      },
      "execution_count": 58,
      "outputs": []
    },
    {
      "cell_type": "code",
      "source": [
        "# Train & evaluate each model using Cross-Validation (5 folds)\n",
        "results = []\n",
        "for name, model in models.items():\n",
        "  model_results_after = {}\n",
        "  print(f\"{model}\")\n",
        "  for metric, scorer in scoring_metrics.items():\n",
        "          scores = cross_val_score(model, X_train_smote, y_train_smote, cv=5, scoring=scorer)\n",
        "          mean_score = np.mean(scores)\n",
        "          model_results_after[metric] = mean_score\n",
        "          print(f\"{metric.capitalize()}: {mean_score:.4f}\")\n",
        "  results.append([name, model_results_after[\"accuracy\"], model_results_after[\"precision\"], model_results_after[\"recall\"], model_results_after[\"f1\"]])\n",
        "  print()"
      ],
      "metadata": {
        "colab": {
          "base_uri": "https://localhost:8080/"
        },
        "id": "mNJixCeBpaTT",
        "outputId": "d3389193-80cc-447f-a2bb-a67adaac3eb2"
      },
      "execution_count": 59,
      "outputs": [
        {
          "output_type": "stream",
          "name": "stdout",
          "text": [
            "LogisticRegression()\n",
            "Accuracy: 0.6038\n",
            "Precision: 0.6044\n",
            "Recall: 0.6016\n",
            "F1: 0.6030\n",
            "\n",
            "RandomForestClassifier()\n",
            "Accuracy: 0.6978\n",
            "Precision: 0.7002\n",
            "Recall: 0.6933\n",
            "F1: 0.7003\n",
            "\n",
            "XGBClassifier(base_score=None, booster=None, callbacks=None,\n",
            "              colsample_bylevel=None, colsample_bynode=None,\n",
            "              colsample_bytree=None, device=None, early_stopping_rounds=None,\n",
            "              enable_categorical=False, eval_metric=None, feature_types=None,\n",
            "              gamma=None, grow_policy=None, importance_type=None,\n",
            "              interaction_constraints=None, learning_rate=None, max_bin=None,\n",
            "              max_cat_threshold=None, max_cat_to_onehot=None,\n",
            "              max_delta_step=None, max_depth=None, max_leaves=None,\n",
            "              min_child_weight=None, missing=nan, monotone_constraints=None,\n",
            "              multi_strategy=None, n_estimators=None, n_jobs=None,\n",
            "              num_parallel_tree=None, random_state=None, ...)\n",
            "Accuracy: 0.7153\n",
            "Precision: 0.7129\n",
            "Recall: 0.7253\n",
            "F1: 0.7183\n",
            "\n",
            "KNeighborsClassifier()\n",
            "Accuracy: 0.6759\n",
            "Precision: 0.6703\n",
            "Recall: 0.6966\n",
            "F1: 0.6825\n",
            "\n"
          ]
        }
      ]
    },
    {
      "cell_type": "code",
      "source": [
        "# Converting results to DataFrame\n",
        "new_df = pd.DataFrame(results, columns=[\"Model\", \"Accuracy\", \"Precision\", \"Recall\", \"F1-Score\"])"
      ],
      "metadata": {
        "id": "EIa2JqXptzJf"
      },
      "execution_count": 60,
      "outputs": []
    },
    {
      "cell_type": "code",
      "source": [
        "# Plot results\n",
        "plt.figure(figsize=(10, 6))\n",
        "new_df.set_index(\"Model\").plot(kind=\"bar\")\n",
        "plt.title(\"Model Performance Analysis\")\n",
        "plt.ylabel(\"Score\")\n",
        "plt.ylim(0, 1)\n",
        "plt.xticks(rotation=0)\n",
        "plt.show()"
      ],
      "metadata": {
        "colab": {
          "base_uri": "https://localhost:8080/",
          "height": 489
        },
        "id": "-Xu7S0fPwkAV",
        "outputId": "347ab591-2a1c-4f21-cc36-3cdb8a229a2d"
      },
      "execution_count": 61,
      "outputs": [
        {
          "output_type": "display_data",
          "data": {
            "text/plain": [
              "<Figure size 1000x600 with 0 Axes>"
            ]
          },
          "metadata": {}
        },
        {
          "output_type": "display_data",
          "data": {
            "text/plain": [
              "<Figure size 640x480 with 1 Axes>"
            ],
            "image/png": "[encoded data removed]"
          },
          "metadata": {}
        }
      ]
    },
    {
      "cell_type": "markdown",
      "source": [
        "# Analysis\n",
        "\n",
        "1. Best Performing Model: XGBoost performs best than other models with accuracy (71.53%), precision (71.29%), recall (72.53%), and F1-score (71.83%), indicating it is the best model for this classification task.\n",
        "2. You can use Random Forest Classifier instead of XGBoost if it is computationally expensive.\n",
        "3. KNN and Logistic Regression are not ideal for this task."
      ],
      "metadata": {
        "id": "dsyJ6CyMxe8M"
      }
    }
  ],
  "metadata": {
    "colab": {
      "provenance": []
    },
    "kernelspec": {
      "display_name": "Python 3",
      "name": "python3"
    },
    "language_info": {
      "name": "python"
    }
  },
  "nbformat": 4,
  "nbformat_minor": 0
}