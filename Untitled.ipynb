{
 "cells": [
  {
   "cell_type": "code",
   "execution_count": 23,
   "id": "b3b3b2f3-be1b-44f1-b08f-e29f32a6aefa",
   "metadata": {},
   "outputs": [],
   "source": [
    "import pandas as pd"
   ]
  },
  {
   "cell_type": "code",
   "execution_count": 24,
   "id": "3c2e8d7e-1f71-4581-8d51-44ecde1aa025",
   "metadata": {},
   "outputs": [],
   "source": [
    "import numpy as np"
   ]
  },
  {
   "cell_type": "code",
   "execution_count": 25,
   "id": "47f4e3a6-1ce5-4e0a-95b8-ee7271193437",
   "metadata": {},
   "outputs": [],
   "source": [
    "df = pd.read_csv(\"in-vehicle-coupon-recommendation.csv\")"
   ]
  },
  {
   "cell_type": "code",
   "execution_count": 26,
   "id": "de8bdbb8-2546-4575-b98e-091cb53d846d",
   "metadata": {},
   "outputs": [
    {
     "name": "stdout",
     "output_type": "stream",
     "text": [
      "<bound method DataFrame.sum of        destination  passanger  weather  temperature   time  coupon  \\\n",
      "0            False      False    False        False  False   False   \n",
      "1            False      False    False        False  False   False   \n",
      "2            False      False    False        False  False   False   \n",
      "3            False      False    False        False  False   False   \n",
      "4            False      False    False        False  False   False   \n",
      "...            ...        ...      ...          ...    ...     ...   \n",
      "12679        False      False    False        False  False   False   \n",
      "12680        False      False    False        False  False   False   \n",
      "12681        False      False    False        False  False   False   \n",
      "12682        False      False    False        False  False   False   \n",
      "12683        False      False    False        False  False   False   \n",
      "\n",
      "       expiration  gender    age  maritalStatus  ...  CoffeeHouse  CarryAway  \\\n",
      "0           False   False  False          False  ...        False       True   \n",
      "1           False   False  False          False  ...        False       True   \n",
      "2           False   False  False          False  ...        False       True   \n",
      "3           False   False  False          False  ...        False       True   \n",
      "4           False   False  False          False  ...        False       True   \n",
      "...           ...     ...    ...            ...  ...          ...        ...   \n",
      "12679       False   False  False          False  ...        False      False   \n",
      "12680       False   False  False          False  ...        False      False   \n",
      "12681       False   False  False          False  ...        False      False   \n",
      "12682       False   False  False          False  ...        False      False   \n",
      "12683       False   False  False          False  ...        False      False   \n",
      "\n",
      "       RestaurantLessThan20  Restaurant20To50  toCoupon_GEQ5min  \\\n",
      "0                     False             False             False   \n",
      "1                     False             False             False   \n",
      "2                     False             False             False   \n",
      "3                     False             False             False   \n",
      "4                     False             False             False   \n",
      "...                     ...               ...               ...   \n",
      "12679                 False             False             False   \n",
      "12680                 False             False             False   \n",
      "12681                 False             False             False   \n",
      "12682                 False             False             False   \n",
      "12683                 False             False             False   \n",
      "\n",
      "       toCoupon_GEQ15min  toCoupon_GEQ25min  direction_same  direction_opp  \\\n",
      "0                  False              False           False          False   \n",
      "1                  False              False           False          False   \n",
      "2                  False              False           False          False   \n",
      "3                  False              False           False          False   \n",
      "4                  False              False           False          False   \n",
      "...                  ...                ...             ...            ...   \n",
      "12679              False              False           False          False   \n",
      "12680              False              False           False          False   \n",
      "12681              False              False           False          False   \n",
      "12682              False              False           False          False   \n",
      "12683              False              False           False          False   \n",
      "\n",
      "           Y  \n",
      "0      False  \n",
      "1      False  \n",
      "2      False  \n",
      "3      False  \n",
      "4      False  \n",
      "...      ...  \n",
      "12679  False  \n",
      "12680  False  \n",
      "12681  False  \n",
      "12682  False  \n",
      "12683  False  \n",
      "\n",
      "[12684 rows x 26 columns]>\n"
     ]
    }
   ],
   "source": [
    "print(df.isnull().sum)"
   ]
  },
  {
   "cell_type": "code",
   "execution_count": 27,
   "id": "1e596e4a-4ced-4b35-a5fa-8a1c37b74271",
   "metadata": {},
   "outputs": [
    {
     "name": "stdout",
     "output_type": "stream",
     "text": [
      "<class 'pandas.core.frame.DataFrame'>\n",
      "RangeIndex: 12684 entries, 0 to 12683\n",
      "Data columns (total 26 columns):\n",
      " #   Column                Non-Null Count  Dtype \n",
      "---  ------                --------------  ----- \n",
      " 0   destination           12684 non-null  object\n",
      " 1   passanger             12684 non-null  object\n",
      " 2   weather               12684 non-null  object\n",
      " 3   temperature           12684 non-null  int64 \n",
      " 4   time                  12684 non-null  object\n",
      " 5   coupon                12684 non-null  object\n",
      " 6   expiration            12684 non-null  object\n",
      " 7   gender                12684 non-null  object\n",
      " 8   age                   12684 non-null  object\n",
      " 9   maritalStatus         12684 non-null  object\n",
      " 10  has_children          12684 non-null  int64 \n",
      " 11  education             12684 non-null  object\n",
      " 12  occupation            12684 non-null  object\n",
      " 13  income                12684 non-null  object\n",
      " 14  car                   108 non-null    object\n",
      " 15  Bar                   12577 non-null  object\n",
      " 16  CoffeeHouse           12467 non-null  object\n",
      " 17  CarryAway             12533 non-null  object\n",
      " 18  RestaurantLessThan20  12554 non-null  object\n",
      " 19  Restaurant20To50      12495 non-null  object\n",
      " 20  toCoupon_GEQ5min      12684 non-null  int64 \n",
      " 21  toCoupon_GEQ15min     12684 non-null  int64 \n",
      " 22  toCoupon_GEQ25min     12684 non-null  int64 \n",
      " 23  direction_same        12684 non-null  int64 \n",
      " 24  direction_opp         12684 non-null  int64 \n",
      " 25  Y                     12684 non-null  int64 \n",
      "dtypes: int64(8), object(18)\n",
      "memory usage: 2.5+ MB\n",
      "None\n"
     ]
    }
   ],
   "source": [
    "print(df.info())"
   ]
  },
  {
   "cell_type": "code",
   "execution_count": 28,
   "id": "32b3fa2d-9d0d-4ab4-969c-00fbc798c456",
   "metadata": {},
   "outputs": [],
   "source": [
    "df_cleaned = df.dropna()"
   ]
  },
  {
   "cell_type": "code",
   "execution_count": 29,
   "id": "fa6c13b3-eb81-461d-bb1a-89fc6b8b13a7",
   "metadata": {},
   "outputs": [
    {
     "name": "stdout",
     "output_type": "stream",
     "text": [
      "Duplicate Rows: 74\n"
     ]
    }
   ],
   "source": [
    "print(f\"Duplicate Rows: {df.duplicated().sum()}\")"
   ]
  },
  {
   "cell_type": "code",
   "execution_count": 30,
   "id": "3df01109-236c-4674-9284-77a3c64a0871",
   "metadata": {},
   "outputs": [],
   "source": [
    "df.drop_duplicates(inplace=True)"
   ]
  },
  {
   "cell_type": "code",
   "execution_count": 31,
   "id": "a3028935-812e-40ec-abe0-f9e94bd7764a",
   "metadata": {},
   "outputs": [],
   "source": [
    "df.to_csv(\"cleaned_dataset.csv\", index=False)"
   ]
  },
  {
   "cell_type": "code",
   "execution_count": null,
   "id": "f9c52e2f-a6be-491f-8c42-3c38dc7f43e5",
   "metadata": {},
   "outputs": [],
   "source": []
  }
 ],
 "metadata": {
  "kernelspec": {
   "display_name": "Python 3 (ipykernel)",
   "language": "python",
   "name": "python3"
  },
  "language_info": {
   "codemirror_mode": {
    "name": "ipython",
    "version": 3
   },
   "file_extension": ".py",
   "mimetype": "text/x-python",
   "name": "python",
   "nbconvert_exporter": "python",
   "pygments_lexer": "ipython3",
   "version": "3.12.7"
  }
 },
 "nbformat": 4,
 "nbformat_minor": 5
}
