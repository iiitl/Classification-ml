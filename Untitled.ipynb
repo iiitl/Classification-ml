{
 "cells": [
  {
   "cell_type": "code",
   "execution_count": 62,
   "id": "2d42c993-243a-4295-8c3c-60d59a2278d6",
   "metadata": {},
   "outputs": [],
   "source": [
    "import pandas as pd"
   ]
  },
  {
   "cell_type": "code",
   "execution_count": 63,
   "id": "d01fff45-f777-4cfa-b158-742c76e9ac93",
   "metadata": {},
   "outputs": [],
   "source": [
    "df = pd.read_csv(\"/Users/parteek/Desktop/ml-classification/Classification-ml/in-vehicle-coupon-recommendation.csv\")"
   ]
  },
  {
   "cell_type": "code",
   "execution_count": 64,
   "id": "ff8745d9-435b-45dd-b349-02439ba1e4ff",
   "metadata": {},
   "outputs": [
    {
     "data": {
      "text/html": [
       "<div>\n",
       "<style scoped>\n",
       "    .dataframe tbody tr th:only-of-type {\n",
       "        vertical-align: middle;\n",
       "    }\n",
       "\n",
       "    .dataframe tbody tr th {\n",
       "        vertical-align: top;\n",
       "    }\n",
       "\n",
       "    .dataframe thead th {\n",
       "        text-align: right;\n",
       "    }\n",
       "</style>\n",
       "<table border=\"1\" class=\"dataframe\">\n",
       "  <thead>\n",
       "    <tr style=\"text-align: right;\">\n",
       "      <th></th>\n",
       "      <th>destination</th>\n",
       "      <th>passanger</th>\n",
       "      <th>weather</th>\n",
       "      <th>temperature</th>\n",
       "      <th>time</th>\n",
       "      <th>coupon</th>\n",
       "      <th>expiration</th>\n",
       "      <th>gender</th>\n",
       "      <th>age</th>\n",
       "      <th>maritalStatus</th>\n",
       "      <th>...</th>\n",
       "      <th>CoffeeHouse</th>\n",
       "      <th>CarryAway</th>\n",
       "      <th>RestaurantLessThan20</th>\n",
       "      <th>Restaurant20To50</th>\n",
       "      <th>toCoupon_GEQ5min</th>\n",
       "      <th>toCoupon_GEQ15min</th>\n",
       "      <th>toCoupon_GEQ25min</th>\n",
       "      <th>direction_same</th>\n",
       "      <th>direction_opp</th>\n",
       "      <th>Y</th>\n",
       "    </tr>\n",
       "  </thead>\n",
       "  <tbody>\n",
       "    <tr>\n",
       "      <th>0</th>\n",
       "      <td>No Urgent Place</td>\n",
       "      <td>Alone</td>\n",
       "      <td>Sunny</td>\n",
       "      <td>55</td>\n",
       "      <td>2PM</td>\n",
       "      <td>Restaurant(&lt;20)</td>\n",
       "      <td>1d</td>\n",
       "      <td>Female</td>\n",
       "      <td>21</td>\n",
       "      <td>Unmarried partner</td>\n",
       "      <td>...</td>\n",
       "      <td>never</td>\n",
       "      <td>NaN</td>\n",
       "      <td>4~8</td>\n",
       "      <td>1~3</td>\n",
       "      <td>1</td>\n",
       "      <td>0</td>\n",
       "      <td>0</td>\n",
       "      <td>0</td>\n",
       "      <td>1</td>\n",
       "      <td>1</td>\n",
       "    </tr>\n",
       "    <tr>\n",
       "      <th>1</th>\n",
       "      <td>No Urgent Place</td>\n",
       "      <td>Friend(s)</td>\n",
       "      <td>Sunny</td>\n",
       "      <td>80</td>\n",
       "      <td>10AM</td>\n",
       "      <td>Coffee House</td>\n",
       "      <td>2h</td>\n",
       "      <td>Female</td>\n",
       "      <td>21</td>\n",
       "      <td>Unmarried partner</td>\n",
       "      <td>...</td>\n",
       "      <td>never</td>\n",
       "      <td>NaN</td>\n",
       "      <td>4~8</td>\n",
       "      <td>1~3</td>\n",
       "      <td>1</td>\n",
       "      <td>0</td>\n",
       "      <td>0</td>\n",
       "      <td>0</td>\n",
       "      <td>1</td>\n",
       "      <td>0</td>\n",
       "    </tr>\n",
       "    <tr>\n",
       "      <th>2</th>\n",
       "      <td>No Urgent Place</td>\n",
       "      <td>Friend(s)</td>\n",
       "      <td>Sunny</td>\n",
       "      <td>80</td>\n",
       "      <td>10AM</td>\n",
       "      <td>Carry out &amp; Take away</td>\n",
       "      <td>2h</td>\n",
       "      <td>Female</td>\n",
       "      <td>21</td>\n",
       "      <td>Unmarried partner</td>\n",
       "      <td>...</td>\n",
       "      <td>never</td>\n",
       "      <td>NaN</td>\n",
       "      <td>4~8</td>\n",
       "      <td>1~3</td>\n",
       "      <td>1</td>\n",
       "      <td>1</td>\n",
       "      <td>0</td>\n",
       "      <td>0</td>\n",
       "      <td>1</td>\n",
       "      <td>1</td>\n",
       "    </tr>\n",
       "    <tr>\n",
       "      <th>3</th>\n",
       "      <td>No Urgent Place</td>\n",
       "      <td>Friend(s)</td>\n",
       "      <td>Sunny</td>\n",
       "      <td>80</td>\n",
       "      <td>2PM</td>\n",
       "      <td>Coffee House</td>\n",
       "      <td>2h</td>\n",
       "      <td>Female</td>\n",
       "      <td>21</td>\n",
       "      <td>Unmarried partner</td>\n",
       "      <td>...</td>\n",
       "      <td>never</td>\n",
       "      <td>NaN</td>\n",
       "      <td>4~8</td>\n",
       "      <td>1~3</td>\n",
       "      <td>1</td>\n",
       "      <td>1</td>\n",
       "      <td>0</td>\n",
       "      <td>0</td>\n",
       "      <td>1</td>\n",
       "      <td>0</td>\n",
       "    </tr>\n",
       "    <tr>\n",
       "      <th>4</th>\n",
       "      <td>No Urgent Place</td>\n",
       "      <td>Friend(s)</td>\n",
       "      <td>Sunny</td>\n",
       "      <td>80</td>\n",
       "      <td>2PM</td>\n",
       "      <td>Coffee House</td>\n",
       "      <td>1d</td>\n",
       "      <td>Female</td>\n",
       "      <td>21</td>\n",
       "      <td>Unmarried partner</td>\n",
       "      <td>...</td>\n",
       "      <td>never</td>\n",
       "      <td>NaN</td>\n",
       "      <td>4~8</td>\n",
       "      <td>1~3</td>\n",
       "      <td>1</td>\n",
       "      <td>1</td>\n",
       "      <td>0</td>\n",
       "      <td>0</td>\n",
       "      <td>1</td>\n",
       "      <td>0</td>\n",
       "    </tr>\n",
       "  </tbody>\n",
       "</table>\n",
       "<p>5 rows × 26 columns</p>\n",
       "</div>"
      ],
      "text/plain": [
       "       destination  passanger weather  temperature  time  \\\n",
       "0  No Urgent Place      Alone   Sunny           55   2PM   \n",
       "1  No Urgent Place  Friend(s)   Sunny           80  10AM   \n",
       "2  No Urgent Place  Friend(s)   Sunny           80  10AM   \n",
       "3  No Urgent Place  Friend(s)   Sunny           80   2PM   \n",
       "4  No Urgent Place  Friend(s)   Sunny           80   2PM   \n",
       "\n",
       "                  coupon expiration  gender age      maritalStatus  ...  \\\n",
       "0        Restaurant(<20)         1d  Female  21  Unmarried partner  ...   \n",
       "1           Coffee House         2h  Female  21  Unmarried partner  ...   \n",
       "2  Carry out & Take away         2h  Female  21  Unmarried partner  ...   \n",
       "3           Coffee House         2h  Female  21  Unmarried partner  ...   \n",
       "4           Coffee House         1d  Female  21  Unmarried partner  ...   \n",
       "\n",
       "   CoffeeHouse CarryAway RestaurantLessThan20 Restaurant20To50  \\\n",
       "0        never       NaN                  4~8              1~3   \n",
       "1        never       NaN                  4~8              1~3   \n",
       "2        never       NaN                  4~8              1~3   \n",
       "3        never       NaN                  4~8              1~3   \n",
       "4        never       NaN                  4~8              1~3   \n",
       "\n",
       "  toCoupon_GEQ5min toCoupon_GEQ15min toCoupon_GEQ25min direction_same  \\\n",
       "0                1                 0                 0              0   \n",
       "1                1                 0                 0              0   \n",
       "2                1                 1                 0              0   \n",
       "3                1                 1                 0              0   \n",
       "4                1                 1                 0              0   \n",
       "\n",
       "  direction_opp  Y  \n",
       "0             1  1  \n",
       "1             1  0  \n",
       "2             1  1  \n",
       "3             1  0  \n",
       "4             1  0  \n",
       "\n",
       "[5 rows x 26 columns]"
      ]
     },
     "execution_count": 64,
     "metadata": {},
     "output_type": "execute_result"
    }
   ],
   "source": [
    "df.head()"
   ]
  },
  {
   "cell_type": "code",
   "execution_count": 65,
   "id": "26d509d5-ad2c-4820-aeb1-192ba462df89",
   "metadata": {},
   "outputs": [
    {
     "data": {
      "text/plain": [
       "(12684, 26)"
      ]
     },
     "execution_count": 65,
     "metadata": {},
     "output_type": "execute_result"
    }
   ],
   "source": [
    "df.shape"
   ]
  },
  {
   "cell_type": "code",
   "execution_count": 66,
   "id": "804be3f8-70bb-4bdd-a3ea-c80a76c89eb7",
   "metadata": {},
   "outputs": [
    {
     "data": {
      "text/plain": [
       "destination                 0\n",
       "passanger                   0\n",
       "weather                     0\n",
       "temperature                 0\n",
       "time                        0\n",
       "coupon                      0\n",
       "expiration                  0\n",
       "gender                      0\n",
       "age                         0\n",
       "maritalStatus               0\n",
       "has_children                0\n",
       "education                   0\n",
       "occupation                  0\n",
       "income                      0\n",
       "car                     12576\n",
       "Bar                       107\n",
       "CoffeeHouse               217\n",
       "CarryAway                 151\n",
       "RestaurantLessThan20      130\n",
       "Restaurant20To50          189\n",
       "toCoupon_GEQ5min            0\n",
       "toCoupon_GEQ15min           0\n",
       "toCoupon_GEQ25min           0\n",
       "direction_same              0\n",
       "direction_opp               0\n",
       "Y                           0\n",
       "dtype: int64"
      ]
     },
     "execution_count": 66,
     "metadata": {},
     "output_type": "execute_result"
    }
   ],
   "source": [
    "df.isnull().sum()"
   ]
  },
  {
   "cell_type": "code",
   "execution_count": 67,
   "id": "3a3c1250-60e8-4f6c-8350-bc9c101f434f",
   "metadata": {},
   "outputs": [],
   "source": [
    "# as car column has 12,576 missing values out of 12,684 total rows which is >99% so it is better to drop this column .\n",
    "df.drop(columns = 'car', inplace=True)"
   ]
  },
  {
   "cell_type": "code",
   "execution_count": 68,
   "id": "7e7fdf3d-4f35-43ef-bd57-9e7321cc1a98",
   "metadata": {},
   "outputs": [
    {
     "data": {
      "text/plain": [
       "destination             object\n",
       "passanger               object\n",
       "weather                 object\n",
       "temperature              int64\n",
       "time                    object\n",
       "coupon                  object\n",
       "expiration              object\n",
       "gender                  object\n",
       "age                     object\n",
       "maritalStatus           object\n",
       "has_children             int64\n",
       "education               object\n",
       "occupation              object\n",
       "income                  object\n",
       "Bar                     object\n",
       "CoffeeHouse             object\n",
       "CarryAway               object\n",
       "RestaurantLessThan20    object\n",
       "Restaurant20To50        object\n",
       "toCoupon_GEQ5min         int64\n",
       "toCoupon_GEQ15min        int64\n",
       "toCoupon_GEQ25min        int64\n",
       "direction_same           int64\n",
       "direction_opp            int64\n",
       "Y                        int64\n",
       "dtype: object"
      ]
     },
     "execution_count": 68,
     "metadata": {},
     "output_type": "execute_result"
    }
   ],
   "source": [
    "df.dtypes"
   ]
  },
  {
   "cell_type": "code",
   "execution_count": 69,
   "id": "9c93806f-d3e7-491e-a5be-c9c53b263156",
   "metadata": {},
   "outputs": [
    {
     "data": {
      "text/plain": [
       "destination              3\n",
       "passanger                4\n",
       "weather                  3\n",
       "temperature              3\n",
       "time                     5\n",
       "coupon                   5\n",
       "expiration               2\n",
       "gender                   2\n",
       "age                      8\n",
       "maritalStatus            5\n",
       "has_children             2\n",
       "education                6\n",
       "occupation              25\n",
       "income                   9\n",
       "Bar                      5\n",
       "CoffeeHouse              5\n",
       "CarryAway                5\n",
       "RestaurantLessThan20     5\n",
       "Restaurant20To50         5\n",
       "toCoupon_GEQ5min         1\n",
       "toCoupon_GEQ15min        2\n",
       "toCoupon_GEQ25min        2\n",
       "direction_same           2\n",
       "direction_opp            2\n",
       "Y                        2\n",
       "dtype: int64"
      ]
     },
     "execution_count": 69,
     "metadata": {},
     "output_type": "execute_result"
    }
   ],
   "source": [
    "df.nunique()"
   ]
  },
  {
   "cell_type": "code",
   "execution_count": 70,
   "id": "cdc92e90-0ebe-4235-8971-f697c6272717",
   "metadata": {},
   "outputs": [
    {
     "data": {
      "text/plain": [
       "74"
      ]
     },
     "execution_count": 70,
     "metadata": {},
     "output_type": "execute_result"
    }
   ],
   "source": [
    "# checking number of duplicated rows present\n",
    "df.duplicated().sum()"
   ]
  },
  {
   "cell_type": "code",
   "execution_count": 71,
   "id": "987ac8b0-f750-4ea5-b269-e293825484eb",
   "metadata": {},
   "outputs": [],
   "source": [
    "# Removing all duplicate rows (keeping the first occurrence)\n",
    "df.drop_duplicates(inplace=True)"
   ]
  },
  {
   "cell_type": "code",
   "execution_count": 72,
   "id": "53f527a0-2e94-4496-a4ca-20831369c0ed",
   "metadata": {},
   "outputs": [],
   "source": [
    "df.reset_index(drop=True, inplace=True)"
   ]
  },
  {
   "cell_type": "code",
   "execution_count": 73,
   "id": "f47162e4-46dc-4a4f-873b-3b6eca2b8193",
   "metadata": {},
   "outputs": [
    {
     "data": {
      "text/plain": [
       "array(['never', 'less1', '1~3', 'gt8', nan, '4~8'], dtype=object)"
      ]
     },
     "execution_count": 73,
     "metadata": {},
     "output_type": "execute_result"
    }
   ],
   "source": [
    "df['Bar'].unique()"
   ]
  },
  {
   "cell_type": "code",
   "execution_count": 74,
   "id": "1965f43a-ab48-49fa-b2aa-81f7bc930cb1",
   "metadata": {},
   "outputs": [
    {
     "data": {
      "text/plain": [
       "Bar\n",
       "never    5178\n",
       "less1    3438\n",
       "1~3      2468\n",
       "4~8      1071\n",
       "gt8       348\n",
       "Name: count, dtype: int64"
      ]
     },
     "execution_count": 74,
     "metadata": {},
     "output_type": "execute_result"
    }
   ],
   "source": [
    "df['Bar'].value_counts()"
   ]
  },
  {
   "cell_type": "code",
   "execution_count": 75,
   "id": "afecd675-ee0c-4983-993b-675dc2f85f1c",
   "metadata": {},
   "outputs": [],
   "source": [
    "# Replacing missing values with the most common value (mode)\n",
    "mode_value = df['Bar'].mode()[0]\n",
    "df['Bar'] = df['Bar'].fillna(mode_value)"
   ]
  },
  {
   "cell_type": "code",
   "execution_count": 76,
   "id": "e2aaa4f8-6397-460d-a2f0-61db9062f523",
   "metadata": {},
   "outputs": [],
   "source": [
    "mode_value = df['CoffeeHouse'].mode()[0]\n",
    "df['CoffeeHouse'] = df['CoffeeHouse'].fillna(mode_value)"
   ]
  },
  {
   "cell_type": "code",
   "execution_count": 77,
   "id": "3f5579f2-58d7-4e5f-aab6-f94f10b30883",
   "metadata": {},
   "outputs": [],
   "source": [
    "mode_value = df['CarryAway'].mode()[0]\n",
    "df['CarryAway'] = df['CarryAway'].fillna(mode_value)"
   ]
  },
  {
   "cell_type": "code",
   "execution_count": 78,
   "id": "ae7bbae4-4073-4c84-9e29-854d7e786b43",
   "metadata": {},
   "outputs": [],
   "source": [
    "mode_value = df['RestaurantLessThan20'].mode()[0]\n",
    "df['RestaurantLessThan20'] = df['RestaurantLessThan20'].fillna(mode_value)"
   ]
  },
  {
   "cell_type": "code",
   "execution_count": 79,
   "id": "ef707867-febd-4c68-89b6-c578287f6734",
   "metadata": {},
   "outputs": [],
   "source": [
    "mode_value = df['Restaurant20To50'].mode()[0]\n",
    "df['Restaurant20To50'] = df['Restaurant20To50'].fillna(mode_value)"
   ]
  },
  {
   "cell_type": "code",
   "execution_count": 80,
   "id": "7c84f798-1370-4563-9025-9f128092b423",
   "metadata": {},
   "outputs": [
    {
     "data": {
      "text/plain": [
       "destination             0\n",
       "passanger               0\n",
       "weather                 0\n",
       "temperature             0\n",
       "time                    0\n",
       "coupon                  0\n",
       "expiration              0\n",
       "gender                  0\n",
       "age                     0\n",
       "maritalStatus           0\n",
       "has_children            0\n",
       "education               0\n",
       "occupation              0\n",
       "income                  0\n",
       "Bar                     0\n",
       "CoffeeHouse             0\n",
       "CarryAway               0\n",
       "RestaurantLessThan20    0\n",
       "Restaurant20To50        0\n",
       "toCoupon_GEQ5min        0\n",
       "toCoupon_GEQ15min       0\n",
       "toCoupon_GEQ25min       0\n",
       "direction_same          0\n",
       "direction_opp           0\n",
       "Y                       0\n",
       "dtype: int64"
      ]
     },
     "execution_count": 80,
     "metadata": {},
     "output_type": "execute_result"
    }
   ],
   "source": [
    "df.isnull().sum()"
   ]
  },
  {
   "cell_type": "code",
   "execution_count": 81,
   "id": "183a0b86-62cb-4a5f-900a-9ace4fecde3e",
   "metadata": {},
   "outputs": [],
   "source": [
    "# now data is cleaned here ..\n",
    "# here for the missing values less than 95% (for the entire column ) i have used made imputation.\n",
    "# if a specific column had more than 95% missing values then i have considered droping the whole column .\n",
    "# also i have removed all duplicated rows."
   ]
  },
  {
   "cell_type": "code",
   "execution_count": 82,
   "id": "b1b3e2e6-70c1-4d72-bf69-851b7346f6a8",
   "metadata": {},
   "outputs": [],
   "source": [
    "df.to_csv('cleaned_data.csv', index=False)"
   ]
  },
  {
   "cell_type": "code",
   "execution_count": null,
   "id": "b5b08c79-5c78-453a-8797-4b539e7ffc2a",
   "metadata": {},
   "outputs": [],
   "source": []
  }
 ],
 "metadata": {
  "kernelspec": {
   "display_name": "Python [conda env:base] *",
   "language": "python",
   "name": "conda-base-py"
  },
  "language_info": {
   "codemirror_mode": {
    "name": "ipython",
    "version": 3
   },
   "file_extension": ".py",
   "mimetype": "text/x-python",
   "name": "python",
   "nbconvert_exporter": "python",
   "pygments_lexer": "ipython3",
   "version": "3.12.7"
  }
 },
 "nbformat": 4,
 "nbformat_minor": 5
}
