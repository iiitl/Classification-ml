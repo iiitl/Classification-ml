{
 "cells": [
  {
   "cell_type": "code",
   "execution_count": null,
   "id": "eb6b9aff",
   "metadata": {},
   "outputs": [],
   "source": [
    "import pandas as pd\n",
    "import numpy as np\n",
    "import seaborn as sns\n",
    "import matplotlib.pyplot as plt"
   ]
  },
  {
   "cell_type": "code",
   "execution_count": null,
   "id": "824dcad4",
   "metadata": {},
   "outputs": [],
   "source": [
    "df = pd.read_csv(\"in-vehicle-coupon-recommendation.csv\")"
   ]
  },
  {
   "cell_type": "code",
   "execution_count": null,
   "id": "184790cd",
   "metadata": {},
   "outputs": [],
   "source": [
    "df.sample(5)"
   ]
  },
  {
   "cell_type": "code",
   "execution_count": null,
   "id": "7d9c2abe",
   "metadata": {},
   "outputs": [],
   "source": [
    "df.shape"
   ]
  },
  {
   "cell_type": "code",
   "execution_count": null,
   "id": "7c92f36c",
   "metadata": {},
   "outputs": [],
   "source": [
    "df.info()"
   ]
  },
  {
   "cell_type": "code",
   "execution_count": null,
   "id": "d05bdc78",
   "metadata": {},
   "outputs": [],
   "source": [
    "df['age'] = pd.to_numeric(df['age'], errors='coerce')\n"
   ]
  },
  {
   "cell_type": "code",
   "execution_count": null,
   "id": "7327fe4a",
   "metadata": {},
   "outputs": [],
   "source": [
    "df['income'] = df['income'].astype('category')\n"
   ]
  },
  {
   "cell_type": "code",
   "execution_count": null,
   "id": "94ee65cd",
   "metadata": {},
   "outputs": [],
   "source": [
    "df.isnull().sum()\n",
    "print(df.isnull().sum()) "
   ]
  },
  {
   "cell_type": "code",
   "execution_count": null,
   "id": "e2c2a17d",
   "metadata": {},
   "outputs": [],
   "source": [
    "df[['Bar', 'CoffeeHouse', 'CarryAway', 'RestaurantLessThan20', 'Restaurant20To50']] = df[['Bar', 'CoffeeHouse', 'CarryAway', 'RestaurantLessThan20', 'Restaurant20To50']].apply(pd.to_numeric, errors='coerce')\n"
   ]
  },
  {
   "cell_type": "code",
   "execution_count": null,
   "id": "b7740fa4",
   "metadata": {},
   "outputs": [],
   "source": [
    "(df.isnull().sum()/df.shape[0])*100\n",
    "print(df.isnull().sum()) "
   ]
  },
  {
   "cell_type": "code",
   "execution_count": null,
   "id": "56ec26b8",
   "metadata": {},
   "outputs": [],
   "source": [
    "# df.drop(columns=['car'], inplace=True)\n",
    "df = df = df.dropna(axis=1, thresh=df.shape[0] * 0.5)\n",
    "\n"
   ]
  },
  {
   "cell_type": "code",
   "execution_count": null,
   "id": "e5aa9699",
   "metadata": {},
   "outputs": [],
   "source": [
    "df"
   ]
  },
  {
   "cell_type": "code",
   "execution_count": null,
   "id": "29fabb4a",
   "metadata": {},
   "outputs": [],
   "source": [
    "df.duplicated().sum()\n",
    "print(f'Duplicates before removal: {df.duplicated().sum()}')"
   ]
  },
  {
   "cell_type": "code",
   "execution_count": null,
   "id": "c82a2e4e",
   "metadata": {},
   "outputs": [],
   "source": [
    "df.drop_duplicates(keep='first', inplace=True) \n",
    "print(f'Duplicates after removal: {df.duplicated().sum()}')"
   ]
  },
  {
   "cell_type": "code",
   "execution_count": null,
   "id": "b8c8fe53",
   "metadata": {},
   "outputs": [],
   "source": [
    "df"
   ]
  },
  {
   "cell_type": "code",
   "execution_count": null,
   "id": "50f52857",
   "metadata": {},
   "outputs": [],
   "source": [
    "for i in df.select_dtypes(include=\"object\").columns:\n",
    "    print(df[i].value_counts())\n",
    "    print(\"***\"*8)\n",
    "    "
   ]
  },
  {
   "cell_type": "code",
   "execution_count": null,
   "id": "589e3215",
   "metadata": {},
   "outputs": [],
   "source": [
    "df['maritalStatus'] = df['maritalStatus'].replace({'Married partner': 'Married', 'Unmarried partner': 'Single'})\n",
    "df['education'] = df['education'].str.lower()\n"
   ]
  },
  {
   "cell_type": "code",
   "execution_count": null,
   "id": "bbe75888",
   "metadata": {},
   "outputs": [],
   "source": [
    "df['maritalStatus'] = df['maritalStatus'].astype('category')\n",
    "df['education'] = df['education'].astype('category')\n"
   ]
  },
  {
   "cell_type": "code",
   "execution_count": null,
   "id": "c558d614",
   "metadata": {},
   "outputs": [],
   "source": [
    "df"
   ]
  },
  {
   "cell_type": "code",
   "execution_count": null,
   "id": "304e1da8",
   "metadata": {},
   "outputs": [],
   "source": [
    "for i in df.select_dtypes(include=\"object\").columns:\n",
    "    print(df[i].value_counts())\n",
    "    print(\"***\"*10)\n",
    "    "
   ]
  },
  {
   "cell_type": "code",
   "execution_count": null,
   "id": "419b2e65",
   "metadata": {},
   "outputs": [],
   "source": [
    "df.describe()"
   ]
  },
  {
   "cell_type": "code",
   "execution_count": null,
   "id": "8e5c9757",
   "metadata": {},
   "outputs": [],
   "source": [
    "for i in df.select_dtypes(include=\"number\").columns:\n",
    "    sns.histplot(data=df,x=i)\n",
    "    plt.show()"
   ]
  },
  {
   "cell_type": "code",
   "execution_count": null,
   "id": "8fc6982f",
   "metadata": {},
   "outputs": [],
   "source": [
    "df.select_dtypes(include=\"number\").columns"
   ]
  },
  {
   "cell_type": "code",
   "execution_count": null,
   "id": "3034d4b9",
   "metadata": {},
   "outputs": [],
   "source": [
    "\n",
    "for i in ['temperature', 'has_children', 'toCoupon_GEQ5min',\n",
    "          'toCoupon_GEQ15min', 'toCoupon_GEQ25min', 'direction_same',\n",
    "          'direction_opp', 'Y']:\n",
    "    sns.scatterplot(data=df, x=i, y='age')\n",
    "    plt.show()\n"
   ]
  },
  {
   "cell_type": "code",
   "execution_count": null,
   "id": "879065d6",
   "metadata": {},
   "outputs": [],
   "source": [
    "s=df.select_dtypes(include=\"number\").corr()"
   ]
  },
  {
   "cell_type": "code",
   "execution_count": null,
   "id": "1a141f65",
   "metadata": {},
   "outputs": [],
   "source": [
    "plt.figure(figsize=(15,15))\n",
    "sns.heatmap(s,annot=True)"
   ]
  },
  {
   "cell_type": "code",
   "execution_count": null,
   "id": "5e355792",
   "metadata": {},
   "outputs": [],
   "source": [
    "df.isnull().sum()\n",
    "print(df.isnull().sum())  # Display missing values summary"
   ]
  },
  {
   "cell_type": "code",
   "execution_count": null,
   "id": "6eaa2972",
   "metadata": {},
   "outputs": [],
   "source": [
    "df[\"age\"] = df[\"age\"].fillna(df[\"age\"].median())\n"
   ]
  },
  {
   "cell_type": "code",
   "execution_count": null,
   "id": "78b86221",
   "metadata": {},
   "outputs": [],
   "source": [
    "def detect_outliers_iqr(df, columns):\n",
    "    outlier_indices = {}\n",
    "    for col in columns:\n",
    "        Q1 = df[col].quantile(0.25)\n",
    "        Q3 = df[col].quantile(0.75)\n",
    "        IQR = Q3 - Q1\n",
    "        lower_bound = Q1 - 1.5 * IQR\n",
    "        upper_bound = Q3 + 1.5 * IQR\n",
    "        outliers = df[(df[col] < lower_bound) | (df[col] > upper_bound)].index\n",
    "        outlier_indices[col] = outliers\n",
    "    return outlier_indices\n",
    "\n",
    "# Select numerical columns for outlier detection\n",
    "numerical_cols = df.select_dtypes(include=[\"int64\", \"float64\"]).columns\n",
    "\n",
    "# Detect outliers\n",
    "outliers = detect_outliers_iqr(df, numerical_cols)\n",
    "print(outliers)\n",
    "\n",
    "# Display outlier counts after removal\n",
    "print({col: df[col].isna().sum() for col in ['age', 'toCoupon_GEQ25min', 'direction_same', 'direction_opp']})\n",
    "            "
   ]
  },
  {
   "cell_type": "code",
   "execution_count": null,
   "id": "1a9b1f9a",
   "metadata": {},
   "outputs": [],
   "source": [
    "for col in numerical_cols:\n",
    "    Q1 = df[col].quantile(0.25)\n",
    "    Q3 = df[col].quantile(0.75)\n",
    "    IQR = Q3 - Q1\n",
    "    lower_bound = Q1 - 1.5 * IQR\n",
    "    upper_bound = Q3 + 1.5 * IQR\n",
    "    df = df[(df[col] >= lower_bound) & (df[col] <= upper_bound)]\n",
    "\n",
    "# Display outlier counts after removal\n",
    "print({col: df[col].isna().sum() for col in ['age', 'toCoupon_GEQ25min', 'direction_same', 'direction_opp']})\n",
    "            "
   ]
  },
  {
   "cell_type": "code",
   "execution_count": null,
   "id": "e1d8c3d6",
   "metadata": {},
   "outputs": [],
   "source": [
    "for col in ['age', 'toCoupon_GEQ25min', 'direction_same', 'direction_opp']:\n",
    "    Q1 = df[col].quantile(0.25)\n",
    "    Q3 = df[col].quantile(0.75)\n",
    "    IQR = Q3 - Q1\n",
    "    lower_bound = Q1 - 1.5 * IQR\n",
    "    upper_bound = Q3 + 1.5 * IQR\n",
    "    df[col] = np.where(df[col] < lower_bound, lower_bound, df[col])\n",
    "    df[col] = np.where(df[col] > upper_bound, upper_bound, df[col])\n",
    "\n",
    "# Display outlier counts after removal\n",
    "print({col: df[col].isna().sum() for col in ['age', 'toCoupon_GEQ25min', 'direction_same', 'direction_opp']})\n",
    "            "
   ]
  },
  {
   "cell_type": "code",
   "execution_count": null,
   "id": "db580142",
   "metadata": {},
   "outputs": [],
   "source": [
    "import seaborn as sns\n",
    "import matplotlib.pyplot as plt\n",
    "\n",
    "for col in ['age', 'toCoupon_GEQ25min', 'direction_same', 'direction_opp']:\n",
    "    plt.figure(figsize=(8, 4))\n",
    "    sns.boxplot(x=df[col])\n",
    "    plt.title(f'Boxplot of {col}')\n",
    "    plt.show()\n",
    "\n",
    "plt.show() "
   ]
  },
  {
   "cell_type": "code",
   "execution_count": null,
   "id": "83c05bf8",
   "metadata": {},
   "outputs": [],
   "source": []
  }
 ],
 "metadata": {
  "language_info": {
   "name": "python"
  }
 },
 "nbformat": 4,
 "nbformat_minor": 5
}
