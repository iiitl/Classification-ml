{
  "cells": [
    {
      "cell_type": "markdown",
      "metadata": {
        "id": "B4GnByImknve"
      },
      "source": [
        "# Issue 8 : Hyperparameter Tuning and Model Performance Comparison\n",
        "\n",
        "## **Description**\n",
        "1. Train multiple classification models (e.g., Logistic Regression, Random Forest, XGBoost).\n",
        "2. Apply **SMOTE** to handle class imbalance.\n",
        "3. Implement **hyperparameter tuning** using:\n",
        "   - **Grid Search CV**\n",
        "4. Compare model performance **before and after tuning**.\n",
        "5. Select the **best model** based on evaluation metrics."
      ]
    },
    {
      "cell_type": "markdown",
      "metadata": {
        "id": "BDwn4Ok2k-ZI"
      },
      "source": [
        "# Importing Libraries"
      ]
    },
    {
      "cell_type": "code",
      "source": [
        "import numpy as np\n",
        "import pandas as pd\n",
        "import matplotlib.pyplot as plt\n",
        "import seaborn as sns\n",
        "from sklearn.model_selection import train_test_split\n",
        "from sklearn.preprocessing import StandardScaler\n",
        "from sklearn.feature_selection import SelectKBest, f_classif\n",
        "from imblearn.over_sampling import SMOTE\n",
        "from sklearn.linear_model import LogisticRegression\n",
        "from sklearn.ensemble import RandomForestClassifier\n",
        "from sklearn.neighbors import KNeighborsClassifier\n",
        "from xgboost import XGBClassifier\n",
        "from sklearn.model_selection import cross_val_score\n",
        "from sklearn.model_selection import GridSearchCV\n",
        "from sklearn.metrics import classification_report, confusion_matrix"
      ],
      "metadata": {
        "id": "nnwqI5CGnlQh"
      },
      "execution_count": 17,
      "outputs": []
    },
    {
      "cell_type": "code",
      "execution_count": 4,
      "metadata": {
        "id": "P7_VJ742lSxZ"
      },
      "outputs": [],
      "source": [
        "data = pd.read_csv(\"encoded-in-vehicle-coupon-recommendation.csv\")"
      ]
    },
    {
      "cell_type": "code",
      "execution_count": 5,
      "metadata": {
        "colab": {
          "base_uri": "https://localhost:8080/"
        },
        "id": "TOyPIdQ_lWKc",
        "outputId": "8d2205d8-5992-4e5a-ff4c-38021d14db23"
      },
      "outputs": [
        {
          "output_type": "stream",
          "name": "stdout",
          "text": [
            "<class 'pandas.core.frame.DataFrame'>\n",
            "RangeIndex: 12610 entries, 0 to 12609\n",
            "Data columns (total 23 columns):\n",
            " #   Column                Non-Null Count  Dtype\n",
            "---  ------                --------------  -----\n",
            " 0   destination           12610 non-null  int64\n",
            " 1   passanger             12610 non-null  int64\n",
            " 2   weather               12610 non-null  int64\n",
            " 3   temperature           12610 non-null  int64\n",
            " 4   time                  12610 non-null  int64\n",
            " 5   coupon                12610 non-null  int64\n",
            " 6   expiration            12610 non-null  int64\n",
            " 7   gender                12610 non-null  int64\n",
            " 8   age                   12610 non-null  int64\n",
            " 9   maritalStatus         12610 non-null  int64\n",
            " 10  has_children          12610 non-null  int64\n",
            " 11  education             12610 non-null  int64\n",
            " 12  occupation            12610 non-null  int64\n",
            " 13  income                12610 non-null  int64\n",
            " 14  Bar                   12610 non-null  int64\n",
            " 15  CoffeeHouse           12610 non-null  int64\n",
            " 16  CarryAway             12610 non-null  int64\n",
            " 17  RestaurantLessThan20  12610 non-null  int64\n",
            " 18  Restaurant20To50      12610 non-null  int64\n",
            " 19  toCoupon_GEQ15min     12610 non-null  int64\n",
            " 20  toCoupon_GEQ25min     12610 non-null  int64\n",
            " 21  direction_same        12610 non-null  int64\n",
            " 22  Y                     12610 non-null  int64\n",
            "dtypes: int64(23)\n",
            "memory usage: 2.2 MB\n"
          ]
        }
      ],
      "source": [
        "data.info()"
      ]
    },
    {
      "cell_type": "code",
      "execution_count": 6,
      "metadata": {
        "colab": {
          "base_uri": "https://localhost:8080/",
          "height": 410
        },
        "id": "EiJPDtEflaL-",
        "outputId": "97474ec6-cfb4-45e2-f7ae-e3c4f7e5d6e5"
      },
      "outputs": [
        {
          "output_type": "display_data",
          "data": {
            "text/plain": [
              "<Figure size 600x400 with 1 Axes>"
            ],
            "image/png": "[encoded data removed]"
          },
          "metadata": {}
        }
      ],
      "source": [
        "# Checking Target Class Distribution\n",
        "plt.figure(figsize=(6,4))\n",
        "sns.countplot(x=data[\"Y\"])\n",
        "plt.title(\"Class Distribution\")\n",
        "plt.xlabel(\"Target Class\")\n",
        "plt.ylabel(\"Count\")\n",
        "plt.show()"
      ]
    },
    {
      "cell_type": "code",
      "execution_count": 7,
      "metadata": {
        "id": "5XjdvrrUlgJ4"
      },
      "outputs": [],
      "source": [
        "# Dividing Dependent and Independent variables\n",
        "X = data.drop(\"Y\", axis=1)\n",
        "y = data[\"Y\"]"
      ]
    },
    {
      "cell_type": "code",
      "execution_count": 8,
      "metadata": {
        "id": "RTooaeK3mK7f"
      },
      "outputs": [],
      "source": [
        "# Selecting Top 10 Important Features\n",
        "selector = SelectKBest(f_classif, k=10)\n",
        "X_selected = selector.fit_transform(X, y)"
      ]
    },
    {
      "cell_type": "code",
      "source": [
        "# Splitting the dataset\n",
        "X_train, X_test, y_train, y_test = train_test_split(X_selected, y, test_size=0.2, random_state=42, stratify=y)"
      ],
      "metadata": {
        "id": "87rvT9EUm4wr"
      },
      "execution_count": 9,
      "outputs": []
    },
    {
      "cell_type": "code",
      "source": [
        "# Applying SMOTE to handle imbalance dataset\n",
        "smote = SMOTE(random_state=42)\n",
        "X_train_smote, y_train_smote = smote.fit_resample(X_train, y_train)"
      ],
      "metadata": {
        "id": "XfWpzBc3nAOZ"
      },
      "execution_count": 10,
      "outputs": []
    },
    {
      "cell_type": "code",
      "source": [
        "# Check class distribution after SMOTE\n",
        "plt.figure(figsize=(6,4))\n",
        "sns.countplot(x=y_train_smote)\n",
        "plt.title(\"Class Distribution After SMOTE\")\n",
        "plt.xlabel(\"Target Class\")\n",
        "plt.ylabel(\"Count\")\n",
        "plt.show()"
      ],
      "metadata": {
        "colab": {
          "base_uri": "https://localhost:8080/",
          "height": 410
        },
        "id": "iLhOhHiVnEW3",
        "outputId": "2b7255d4-ad42-45a4-b635-8ff6e34bcb6e"
      },
      "execution_count": 11,
      "outputs": [
        {
          "output_type": "display_data",
          "data": {
            "text/plain": [
              "<Figure size 600x400 with 1 Axes>"
            ],
            "image/png": "[encoded data removed]"
          },
          "metadata": {}
        }
      ]
    },
    {
      "cell_type": "code",
      "source": [
        "# Standardize features\n",
        "scaler = StandardScaler()\n",
        "X_train_smote = scaler.fit_transform(X_train_smote)\n",
        "X_test = scaler.transform(X_test)"
      ],
      "metadata": {
        "id": "8O9hNQTnnLjy"
      },
      "execution_count": 12,
      "outputs": []
    },
    {
      "cell_type": "code",
      "source": [
        "# Model Parameter Dictionary for Grid Search CV\n",
        "model_params = {\n",
        "    \"RandomForest\": {\n",
        "        'model' : RandomForestClassifier(),\n",
        "        'params' : {\n",
        "            \"n_estimators\": [100, 200, 300],\n",
        "            \"max_depth\": [10, 20],\n",
        "            \"min_samples_split\": [2, 5, 10],\n",
        "            \"min_samples_leaf\": [1, 2, 4]\n",
        "        }\n",
        "    },\n",
        "\n",
        "    \"XGBoost\": {\n",
        "        'model' : XGBClassifier(),\n",
        "        'params' : {\n",
        "            \"n_estimators\": [100, 200, 300],\n",
        "            \"learning_rate\": [ 0.05, 0.1,],\n",
        "            \"max_depth\": [5, 10],\n",
        "            \"subsample\": [0.5, 1.0],\n",
        "            \"gamma\": [0.1, 0.2,],\n",
        "            \"lambda\": [0, 1]\n",
        "        }\n",
        "\n",
        "    }\n",
        "}"
      ],
      "metadata": {
        "id": "_UsZyvwtLY7u"
      },
      "execution_count": 13,
      "outputs": []
    },
    {
      "cell_type": "code",
      "source": [
        "# Computing best model score and parameter using grid search cv\n",
        "scores=[]\n",
        "\n",
        "for model_name , mp in model_params.items():\n",
        "    clf = GridSearchCV(mp['model'],mp['params'],cv=3,return_train_score=False)\n",
        "    clf.fit(X_train_smote, y_train_smote)\n",
        "    scores.append({\n",
        "        'model': model_name,\n",
        "        'best_score': clf.best_score_,\n",
        "        'best_params': clf.best_params_\n",
        "    })"
      ],
      "metadata": {
        "id": "XSJ8_go2L_pB"
      },
      "execution_count": 14,
      "outputs": []
    },
    {
      "cell_type": "code",
      "source": [
        "best_model = pd.DataFrame(scores,columns=['model','best_score','best_params'])\n",
        "best_model"
      ],
      "metadata": {
        "colab": {
          "base_uri": "https://localhost:8080/",
          "height": 181
        },
        "id": "nVkz-_O7MNLy",
        "outputId": "3267e719-5f0d-48c0-fe89-f78c740fdfbd"
      },
      "execution_count": 16,
      "outputs": [
        {
          "output_type": "execute_result",
          "data": {
            "text/plain": [
              "          model  best_score                                        best_params\n",
              "0  RandomForest    0.714199  {'max_depth': 20, 'min_samples_leaf': 4, 'min_...\n",
              "1       XGBoost    0.715858  {'gamma': 0.2, 'lambda': 1, 'learning_rate': 0..."
            ],
            "text/html": [
              "\n",
              "  <div id=\"df-9d9dd679-66c3-4194-95dc-6791ecc350fd\" class=\"colab-df-container\">\n",
              "    <div>\n",
              "<style scoped>\n",
              "    .dataframe tbody tr th:only-of-type {\n",
              "        vertical-align: middle;\n",
              "    }\n",
              "\n",
              "    .dataframe tbody tr th {\n",
              "        vertical-align: top;\n",
              "    }\n",
              "\n",
              "    .dataframe thead th {\n",
              "        text-align: right;\n",
              "    }\n",
              "</style>\n",
              "<table border=\"1\" class=\"dataframe\">\n",
              "  <thead>\n",
              "    <tr style=\"text-align: right;\">\n",
              "      <th></th>\n",
              "      <th>model</th>\n",
              "      <th>best_score</th>\n",
              "      <th>best_params</th>\n",
              "    </tr>\n",
              "  </thead>\n",
              "  <tbody>\n",
              "    <tr>\n",
              "      <th>0</th>\n",
              "      <td>RandomForest</td>\n",
              "      <td>0.714199</td>\n",
              "      <td>{'max_depth': 20, 'min_samples_leaf': 4, 'min_...</td>\n",
              "    </tr>\n",
              "    <tr>\n",
              "      <th>1</th>\n",
              "      <td>XGBoost</td>\n",
              "      <td>0.715858</td>\n",
              "      <td>{'gamma': 0.2, 'lambda': 1, 'learning_rate': 0...</td>\n",
              "    </tr>\n",
              "  </tbody>\n",
              "</table>\n",
              "</div>\n",
              "    <div class=\"colab-df-buttons\">\n",
              "\n",
              "  <div class=\"colab-df-container\">\n",
              "    <button class=\"colab-df-convert\" onclick=\"convertToInteractive('df-9d9dd679-66c3-4194-95dc-6791ecc350fd')\"\n",
              "            title=\"Convert this dataframe to an interactive table.\"\n",
              "            style=\"display:none;\">\n",
              "\n",
              "  <svg xmlns=\"http://www.w3.org/2000/svg\" height=\"24px\" viewBox=\"0 -960 960 960\">\n",
              "    <path d=\"M120-120v-720h720v720H120Zm60-500h600v-160H180v160Zm220 220h160v-160H400v160Zm0 220h160v-160H400v160ZM180-400h160v-160H180v160Zm440 0h160v-160H620v160ZM180-180h160v-160H180v160Zm440 0h160v-160H620v160Z\"/>\n",
              "  </svg>\n",
              "    </button>\n",
              "\n",
              "  <style>\n",
              "    .colab-df-container {\n",
              "      display:flex;\n",
              "      gap: 12px;\n",
              "    }\n",
              "\n",
              "    .colab-df-convert {\n",
              "      background-color: #E8F0FE;\n",
              "      border: none;\n",
              "      border-radius: 50%;\n",
              "      cursor: pointer;\n",
              "      display: none;\n",
              "      fill: #1967D2;\n",
              "      height: 32px;\n",
              "      padding: 0 0 0 0;\n",
              "      width: 32px;\n",
              "    }\n",
              "\n",
              "    .colab-df-convert:hover {\n",
              "      background-color: #E2EBFA;\n",
              "      box-shadow: 0px 1px 2px rgba(60, 64, 67, 0.3), 0px 1px 3px 1px rgba(60, 64, 67, 0.15);\n",
              "      fill: #174EA6;\n",
              "    }\n",
              "\n",
              "    .colab-df-buttons div {\n",
              "      margin-bottom: 4px;\n",
              "    }\n",
              "\n",
              "    [theme=dark] .colab-df-convert {\n",
              "      background-color: #3B4455;\n",
              "      fill: #D2E3FC;\n",
              "    }\n",
              "\n",
              "    [theme=dark] .colab-df-convert:hover {\n",
              "      background-color: #434B5C;\n",
              "      box-shadow: 0px 1px 3px 1px rgba(0, 0, 0, 0.15);\n",
              "      filter: drop-shadow(0px 1px 2px rgba(0, 0, 0, 0.3));\n",
              "      fill: #FFFFFF;\n",
              "    }\n",
              "  </style>\n",
              "\n",
              "    <script>\n",
              "      const buttonEl =\n",
              "        document.querySelector('#df-9d9dd679-66c3-4194-95dc-6791ecc350fd button.colab-df-convert');\n",
              "      buttonEl.style.display =\n",
              "        google.colab.kernel.accessAllowed ? 'block' : 'none';\n",
              "\n",
              "      async function convertToInteractive(key) {\n",
              "        const element = document.querySelector('#df-9d9dd679-66c3-4194-95dc-6791ecc350fd');\n",
              "        const dataTable =\n",
              "          await google.colab.kernel.invokeFunction('convertToInteractive',\n",
              "                                                    [key], {});\n",
              "        if (!dataTable) return;\n",
              "\n",
              "        const docLinkHtml = 'Like what you see? Visit the ' +\n",
              "          '<a target=\"_blank\" href=https://colab.research.google.com/notebooks/data_table.ipynb>data table notebook</a>'\n",
              "          + ' to learn more about interactive tables.';\n",
              "        element.innerHTML = '';\n",
              "        dataTable['output_type'] = 'display_data';\n",
              "        await google.colab.output.renderOutput(dataTable, element);\n",
              "        const docLink = document.createElement('div');\n",
              "        docLink.innerHTML = docLinkHtml;\n",
              "        element.appendChild(docLink);\n",
              "      }\n",
              "    </script>\n",
              "  </div>\n",
              "\n",
              "\n",
              "<div id=\"df-81b59dd3-6ae6-4b07-b226-78999aac1c1c\">\n",
              "  <button class=\"colab-df-quickchart\" onclick=\"quickchart('df-81b59dd3-6ae6-4b07-b226-78999aac1c1c')\"\n",
              "            title=\"Suggest charts\"\n",
              "            style=\"display:none;\">\n",
              "\n",
              "<svg xmlns=\"http://www.w3.org/2000/svg\" height=\"24px\"viewBox=\"0 0 24 24\"\n",
              "     width=\"24px\">\n",
              "    <g>\n",
              "        <path d=\"M19 3H5c-1.1 0-2 .9-2 2v14c0 1.1.9 2 2 2h14c1.1 0 2-.9 2-2V5c0-1.1-.9-2-2-2zM9 17H7v-7h2v7zm4 0h-2V7h2v10zm4 0h-2v-4h2v4z\"/>\n",
              "    </g>\n",
              "</svg>\n",
              "  </button>\n",
              "\n",
              "<style>\n",
              "  .colab-df-quickchart {\n",
              "      --bg-color: #E8F0FE;\n",
              "      --fill-color: #1967D2;\n",
              "      --hover-bg-color: #E2EBFA;\n",
              "      --hover-fill-color: #174EA6;\n",
              "      --disabled-fill-color: #AAA;\n",
              "      --disabled-bg-color: #DDD;\n",
              "  }\n",
              "\n",
              "  [theme=dark] .colab-df-quickchart {\n",
              "      --bg-color: #3B4455;\n",
              "      --fill-color: #D2E3FC;\n",
              "      --hover-bg-color: #434B5C;\n",
              "      --hover-fill-color: #FFFFFF;\n",
              "      --disabled-bg-color: #3B4455;\n",
              "      --disabled-fill-color: #666;\n",
              "  }\n",
              "\n",
              "  .colab-df-quickchart {\n",
              "    background-color: var(--bg-color);\n",
              "    border: none;\n",
              "    border-radius: 50%;\n",
              "    cursor: pointer;\n",
              "    display: none;\n",
              "    fill: var(--fill-color);\n",
              "    height: 32px;\n",
              "    padding: 0;\n",
              "    width: 32px;\n",
              "  }\n",
              "\n",
              "  .colab-df-quickchart:hover {\n",
              "    background-color: var(--hover-bg-color);\n",
              "    box-shadow: 0 1px 2px rgba(60, 64, 67, 0.3), 0 1px 3px 1px rgba(60, 64, 67, 0.15);\n",
              "    fill: var(--button-hover-fill-color);\n",
              "  }\n",
              "\n",
              "  .colab-df-quickchart-complete:disabled,\n",
              "  .colab-df-quickchart-complete:disabled:hover {\n",
              "    background-color: var(--disabled-bg-color);\n",
              "    fill: var(--disabled-fill-color);\n",
              "    box-shadow: none;\n",
              "  }\n",
              "\n",
              "  .colab-df-spinner {\n",
              "    border: 2px solid var(--fill-color);\n",
              "    border-color: transparent;\n",
              "    border-bottom-color: var(--fill-color);\n",
              "    animation:\n",
              "      spin 1s steps(1) infinite;\n",
              "  }\n",
              "\n",
              "  @keyframes spin {\n",
              "    0% {\n",
              "      border-color: transparent;\n",
              "      border-bottom-color: var(--fill-color);\n",
              "      border-left-color: var(--fill-color);\n",
              "    }\n",
              "    20% {\n",
              "      border-color: transparent;\n",
              "      border-left-color: var(--fill-color);\n",
              "      border-top-color: var(--fill-color);\n",
              "    }\n",
              "    30% {\n",
              "      border-color: transparent;\n",
              "      border-left-color: var(--fill-color);\n",
              "      border-top-color: var(--fill-color);\n",
              "      border-right-color: var(--fill-color);\n",
              "    }\n",
              "    40% {\n",
              "      border-color: transparent;\n",
              "      border-right-color: var(--fill-color);\n",
              "      border-top-color: var(--fill-color);\n",
              "    }\n",
              "    60% {\n",
              "      border-color: transparent;\n",
              "      border-right-color: var(--fill-color);\n",
              "    }\n",
              "    80% {\n",
              "      border-color: transparent;\n",
              "      border-right-color: var(--fill-color);\n",
              "      border-bottom-color: var(--fill-color);\n",
              "    }\n",
              "    90% {\n",
              "      border-color: transparent;\n",
              "      border-bottom-color: var(--fill-color);\n",
              "    }\n",
              "  }\n",
              "</style>\n",
              "\n",
              "  <script>\n",
              "    async function quickchart(key) {\n",
              "      const quickchartButtonEl =\n",
              "        document.querySelector('#' + key + ' button');\n",
              "      quickchartButtonEl.disabled = true;  // To prevent multiple clicks.\n",
              "      quickchartButtonEl.classList.add('colab-df-spinner');\n",
              "      try {\n",
              "        const charts = await google.colab.kernel.invokeFunction(\n",
              "            'suggestCharts', [key], {});\n",
              "      } catch (error) {\n",
              "        console.error('Error during call to suggestCharts:', error);\n",
              "      }\n",
              "      quickchartButtonEl.classList.remove('colab-df-spinner');\n",
              "      quickchartButtonEl.classList.add('colab-df-quickchart-complete');\n",
              "    }\n",
              "    (() => {\n",
              "      let quickchartButtonEl =\n",
              "        document.querySelector('#df-81b59dd3-6ae6-4b07-b226-78999aac1c1c button');\n",
              "      quickchartButtonEl.style.display =\n",
              "        google.colab.kernel.accessAllowed ? 'block' : 'none';\n",
              "    })();\n",
              "  </script>\n",
              "</div>\n",
              "\n",
              "  <div id=\"id_137e43df-118f-4f00-9659-9d7041b84bab\">\n",
              "    <style>\n",
              "      .colab-df-generate {\n",
              "        background-color: #E8F0FE;\n",
              "        border: none;\n",
              "        border-radius: 50%;\n",
              "        cursor: pointer;\n",
              "        display: none;\n",
              "        fill: #1967D2;\n",
              "        height: 32px;\n",
              "        padding: 0 0 0 0;\n",
              "        width: 32px;\n",
              "      }\n",
              "\n",
              "      .colab-df-generate:hover {\n",
              "        background-color: #E2EBFA;\n",
              "        box-shadow: 0px 1px 2px rgba(60, 64, 67, 0.3), 0px 1px 3px 1px rgba(60, 64, 67, 0.15);\n",
              "        fill: #174EA6;\n",
              "      }\n",
              "\n",
              "      [theme=dark] .colab-df-generate {\n",
              "        background-color: #3B4455;\n",
              "        fill: #D2E3FC;\n",
              "      }\n",
              "\n",
              "      [theme=dark] .colab-df-generate:hover {\n",
              "        background-color: #434B5C;\n",
              "        box-shadow: 0px 1px 3px 1px rgba(0, 0, 0, 0.15);\n",
              "        filter: drop-shadow(0px 1px 2px rgba(0, 0, 0, 0.3));\n",
              "        fill: #FFFFFF;\n",
              "      }\n",
              "    </style>\n",
              "    <button class=\"colab-df-generate\" onclick=\"generateWithVariable('best_model')\"\n",
              "            title=\"Generate code using this dataframe.\"\n",
              "            style=\"display:none;\">\n",
              "\n",
              "  <svg xmlns=\"http://www.w3.org/2000/svg\" height=\"24px\"viewBox=\"0 0 24 24\"\n",
              "       width=\"24px\">\n",
              "    <path d=\"M7,19H8.4L18.45,9,17,7.55,7,17.6ZM5,21V16.75L18.45,3.32a2,2,0,0,1,2.83,0l1.4,1.43a1.91,1.91,0,0,1,.58,1.4,1.91,1.91,0,0,1-.58,1.4L9.25,21ZM18.45,9,17,7.55Zm-12,3A5.31,5.31,0,0,0,4.9,8.1,5.31,5.31,0,0,0,1,6.5,5.31,5.31,0,0,0,4.9,4.9,5.31,5.31,0,0,0,6.5,1,5.31,5.31,0,0,0,8.1,4.9,5.31,5.31,0,0,0,12,6.5,5.46,5.46,0,0,0,6.5,12Z\"/>\n",
              "  </svg>\n",
              "    </button>\n",
              "    <script>\n",
              "      (() => {\n",
              "      const buttonEl =\n",
              "        document.querySelector('#id_137e43df-118f-4f00-9659-9d7041b84bab button.colab-df-generate');\n",
              "      buttonEl.style.display =\n",
              "        google.colab.kernel.accessAllowed ? 'block' : 'none';\n",
              "\n",
              "      buttonEl.onclick = () => {\n",
              "        google.colab.notebook.generateWithVariable('best_model');\n",
              "      }\n",
              "      })();\n",
              "    </script>\n",
              "  </div>\n",
              "\n",
              "    </div>\n",
              "  </div>\n"
            ],
            "application/vnd.google.colaboratory.intrinsic+json": {
              "type": "dataframe",
              "variable_name": "best_model",
              "summary": "{\n  \"name\": \"best_model\",\n  \"rows\": 2,\n  \"fields\": [\n    {\n      \"column\": \"model\",\n      \"properties\": {\n        \"dtype\": \"string\",\n        \"num_unique_values\": 2,\n        \"samples\": [\n          \"XGBoost\",\n          \"RandomForest\"\n        ],\n        \"semantic_type\": \"\",\n        \"description\": \"\"\n      }\n    },\n    {\n      \"column\": \"best_score\",\n      \"properties\": {\n        \"dtype\": \"number\",\n        \"std\": 0.0011734080581273943,\n        \"min\": 0.7141988006473388,\n        \"max\": 0.7158582502373404,\n        \"num_unique_values\": 2,\n        \"samples\": [\n          0.7158582502373404,\n          0.7141988006473388\n        ],\n        \"semantic_type\": \"\",\n        \"description\": \"\"\n      }\n    },\n    {\n      \"column\": \"best_params\",\n      \"properties\": {\n        \"dtype\": \"object\",\n        \"semantic_type\": \"\",\n        \"description\": \"\"\n      }\n    }\n  ]\n}"
            }
          },
          "metadata": {},
          "execution_count": 16
        }
      ]
    },
    {
      "cell_type": "code",
      "source": [
        "# Training Random Forest without Hyperparameter Tuning\n",
        "rf = RandomForestClassifier()\n",
        "rf.fit(X_train_smote, y_train_smote)\n",
        "y_pred = rf.predict(X_test)\n",
        "print(classification_report(y_test,y_pred))\n",
        "sns.heatmap(confusion_matrix(y_test,y_pred), annot=True, fmt='d')\n",
        "plt.show()"
      ],
      "metadata": {
        "colab": {
          "base_uri": "https://localhost:8080/",
          "height": 588
        },
        "id": "7JfbDq6_Rmyw",
        "outputId": "4dd60a6f-866b-4ac3-c1d6-207b145e20c0"
      },
      "execution_count": 22,
      "outputs": [
        {
          "output_type": "stream",
          "name": "stdout",
          "text": [
            "              precision    recall  f1-score   support\n",
            "\n",
            "           0       0.62      0.64      0.63      1091\n",
            "           1       0.72      0.70      0.71      1431\n",
            "\n",
            "    accuracy                           0.67      2522\n",
            "   macro avg       0.67      0.67      0.67      2522\n",
            "weighted avg       0.67      0.67      0.67      2522\n",
            "\n"
          ]
        },
        {
          "output_type": "display_data",
          "data": {
            "text/plain": [
              "<Figure size 640x480 with 2 Axes>"
            ],
            "image/png": "[encoded data removed]"
          },
          "metadata": {}
        }
      ]
    },
    {
      "cell_type": "code",
      "source": [
        "# Training XGBoost without Hyperparamter Tuning\n",
        "xgb = XGBClassifier()\n",
        "xgb.fit(X_train_smote, y_train_smote)\n",
        "y_pred = xgb.predict(X_test)\n",
        "print(classification_report(y_test,y_pred))\n",
        "sns.heatmap(confusion_matrix(y_test,y_pred), annot=True, fmt='d')\n",
        "plt.show()"
      ],
      "metadata": {
        "id": "l1bqg6vXXCd_",
        "outputId": "289da629-47ce-45e0-a60e-94ff2dd28d1c",
        "colab": {
          "base_uri": "https://localhost:8080/",
          "height": 586
        }
      },
      "execution_count": 23,
      "outputs": [
        {
          "output_type": "stream",
          "name": "stdout",
          "text": [
            "              precision    recall  f1-score   support\n",
            "\n",
            "           0       0.65      0.67      0.66      1091\n",
            "           1       0.74      0.72      0.73      1431\n",
            "\n",
            "    accuracy                           0.70      2522\n",
            "   macro avg       0.69      0.69      0.69      2522\n",
            "weighted avg       0.70      0.70      0.70      2522\n",
            "\n"
          ]
        },
        {
          "output_type": "display_data",
          "data": {
            "text/plain": [
              "<Figure size 640x480 with 2 Axes>"
            ],
            "image/png": "[encoded data removed]"
          },
          "metadata": {}
        }
      ]
    },
    {
      "cell_type": "code",
      "source": [
        "# Training Random Forest with Tuned Hyper parameters\n",
        "rf = RandomForestClassifier(max_depth=20, min_samples_leaf=4, min_samples_split=5, n_estimators=300)\n",
        "rf.fit(X_train_smote, y_train_smote)\n",
        "y_pred = rf.predict(X_test)\n",
        "print(classification_report(y_test,y_pred))\n",
        "sns.heatmap(confusion_matrix(y_test,y_pred), annot=True, fmt='d')\n",
        "plt.show()"
      ],
      "metadata": {
        "id": "j4xx3L0xXtOg",
        "outputId": "c22c4d51-432f-444c-a2e7-505885f473e4",
        "colab": {
          "base_uri": "https://localhost:8080/",
          "height": 586
        }
      },
      "execution_count": 25,
      "outputs": [
        {
          "output_type": "stream",
          "name": "stdout",
          "text": [
            "              precision    recall  f1-score   support\n",
            "\n",
            "           0       0.65      0.64      0.65      1091\n",
            "           1       0.73      0.74      0.74      1431\n",
            "\n",
            "    accuracy                           0.70      2522\n",
            "   macro avg       0.69      0.69      0.69      2522\n",
            "weighted avg       0.70      0.70      0.70      2522\n",
            "\n"
          ]
        },
        {
          "output_type": "display_data",
          "data": {
            "text/plain": [
              "<Figure size 640x480 with 2 Axes>"
            ],
            "image/png": "[encoded data removed]"
          },
          "metadata": {}
        }
      ]
    },
    {
      "cell_type": "code",
      "source": [
        "# Training XGBoost Classifier with Tuned HyperParamters\n",
        "xgb = XGBClassifier(\n",
        "    gamma=0.2,\n",
        "    reg_lambda=1,\n",
        "    learning_rate=0.05,\n",
        "    max_depth=10,\n",
        "    n_estimators=100,\n",
        "    subsample=1.0\n",
        ")\n",
        "xgb.fit(X_train_smote, y_train_smote)\n",
        "y_pred = xgb.predict(X_test)\n",
        "print(classification_report(y_test,y_pred))\n",
        "sns.heatmap(confusion_matrix(y_test,y_pred), annot=True, fmt='d')\n",
        "plt.show()"
      ],
      "metadata": {
        "id": "hADjW1XHYNAx",
        "outputId": "0e4e48af-b916-436d-bd27-6c2dc96753ec",
        "colab": {
          "base_uri": "https://localhost:8080/",
          "height": 586
        }
      },
      "execution_count": 26,
      "outputs": [
        {
          "output_type": "stream",
          "name": "stdout",
          "text": [
            "              precision    recall  f1-score   support\n",
            "\n",
            "           0       0.64      0.67      0.66      1091\n",
            "           1       0.74      0.71      0.73      1431\n",
            "\n",
            "    accuracy                           0.70      2522\n",
            "   macro avg       0.69      0.69      0.69      2522\n",
            "weighted avg       0.70      0.70      0.70      2522\n",
            "\n"
          ]
        },
        {
          "output_type": "display_data",
          "data": {
            "text/plain": [
              "<Figure size 640x480 with 2 Axes>"
            ],
            "image/png": "[encoded data removed]"
          },
          "metadata": {}
        }
      ]
    },
    {
      "cell_type": "markdown",
      "source": [
        "# Analysis\n",
        "\n",
        "1. Random Forest showed significant imporvement after hyper parameter tuning.\n",
        "2. XGBoost classifier overall stayed the same before and after the hyper paramter tuning.\n",
        "3. Use Random Forest if XGBoost is computationally expensive as both shows overall same performance after HyperParamter Tuning."
      ],
      "metadata": {
        "id": "mAmvUojzZehh"
      }
    }
  ],
  "metadata": {
    "colab": {
      "provenance": [],
      "gpuType": "T4"
    },
    "kernelspec": {
      "display_name": "Python 3",
      "name": "python3"
    },
    "language_info": {
      "name": "python"
    },
    "accelerator": "GPU"
  },
  "nbformat": 4,
  "nbformat_minor": 0
}